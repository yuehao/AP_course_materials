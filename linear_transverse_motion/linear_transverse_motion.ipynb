{
 "cells": [
  {
   "cell_type": "markdown",
   "metadata": {},
   "source": [
    "# Linear Transverse Motion"
   ]
  },
  {
   "cell_type": "markdown",
   "metadata": {},
   "source": [
    "In this chapter,we will discuss the particle motion in perpendicular to the  particle ideal trajectory in linear magnets.  Linear magnets refer to the dipole and quadrupole magnets that produce linear magnetic field.  The force of the particle is given by the Lorentz force:\n",
    "\\begin{equation}\n",
    "\\mathbf{F}=q\\mathbf{v}\\times \\mathbf{B}\n",
    "\\end{equation}\n",
    "The force is always perpendicular to its velocity, therefore the particle can not be accelerated by the magnetic field."
   ]
  },
  {
   "cell_type": "markdown",
   "metadata": {},
   "source": [
    "## Design Trajectory"
   ]
  },
  {
   "cell_type": "markdown",
   "metadata": {},
   "source": [
    "The geometry of the accelerator is determined by the dipole magnet.  Let us assume that the magnetic field is constant in certain region and along the vertical direction $\\mathbf{B}=B\\hat{y}$.  The particle travels through this region initially in $\\hat{s}$ direction in the $x$-$s$ plane, as shown below.\n",
    "<img src=reference_orbit.png width=400>\n",
    "\n",
    "The equation of motion is\n",
    "\\begin{equation}\n",
    "\\frac{d\\mathbf{P}}{dt}=q\\mathbf{v}\\times\\mathbf{B}\n",
    "\\end{equation}\n",
    "The momentum change will be only in the $x$-$s$ plane, the velocity is always perpendicular to the magnetic field and the energy of the beam does not change, therefore:\n",
    "\\begin{equation}\n",
    "m\\gamma \\frac{d\\mathbf{v}}{dt}=qB\\mathbf{v}\\times\\hat{y}\n",
    "\\end{equation}\n",
    "\n",
    "Using the fact that the amplitude of the velocity will not change therefore:\n",
    "\\begin{equation}\n",
    "m\\gamma \\frac{v^2}{\\rho}=qvB\n",
    "\\end{equation}\n",
    "The bending radius is given by:\n",
    "\\begin{equation}\n",
    "\\rho=\\frac{\\left|\\mathbf{P}\\right|}{qB}\n",
    "\\end{equation}\n",
    "\n",
    "Here, we define the term 'rigidity' $B\\rho=P/q$, to quantify 'how hard to bend the beam'.  And naturally it is only function of the particle momentum amplitude.  It is a very important normalization factor of the transverse motion, as will shown later.  After normalization, most our calculation becomes particle energy independent.\n",
    "\n",
    "The dipoles that defines the geometry of the accelerator are sometimes called main dipoles.  They define a ideal trajectory.  A charge particle with correct energy, once inject with correct position and angle, will exactly follow the ideal trajectory."
   ]
  },
  {
   "cell_type": "markdown",
   "metadata": {},
   "source": [
    "## First look: Beam motion in Quadrupole field"
   ]
  },
  {
   "cell_type": "markdown",
   "metadata": {},
   "source": [
    "The quadrupole field, from the previous section, has\n",
    "\\begin{align}\n",
    "B_x&=Gy\\\\\n",
    "B_y&=Gx\n",
    "\\end{align}\n",
    "where the gradient is $G=B_0 b_1$.  \n",
    "\n",
    "Quadrupole is usually positioned so that the zero field axis is located on the ideal trajectory.  The ideal particle will not experience any field from the Quadrupole.\n",
    "\n",
    "From the Lorentz force, we have\n",
    "$$\\gamma m \\frac{d\\mathbf{v}}{dt} = q \\mathbf{v}\\times \\mathbf{B}$$\n",
    "\n",
    "Expand the vector production and get\n",
    "\n",
    "\\begin{align}\n",
    "\\gamma m\\frac{d^{2}x}{dt^{2}}&=-qGxv_{z}\\\\\n",
    "\\gamma m\\frac{d^{2}y}{dt^{2}}&=qGyv_{z}\n",
    "\\end{align}\n",
    "\n",
    "Here we need to make following approximation:\n",
    "* **paraxial approximation**, indicate that the particle will only deviate the design direction by small angles, i.e. if z is the forward direction, the two transverse velocity satisfy: $v_x,v_y \\ll \\left|\\mathbf{v}\\right|$\n",
    "* In such approximation, \n",
    "\\begin{align}\n",
    "v_z&=\\sqrt{v^2-v_x^2-v_y^2}\\nonumber\\\\\n",
    "&=v\\left(1-\\frac{v_x^2+v_y^2}{2v^2}\\right)\\sim v\n",
    "\\end{align}\n",
    "* Using such approximation, we have \n",
    "$$\\frac{d}{dt}=v_s\\frac{d}{ds}\\sim v\\frac{d}{ds}\\;\\frac{d^2}{dt^2}\\sim v^2\\frac{d^2}{ds^2}$$\n",
    "\n",
    "Then the equation of motion in quadrupole is simplified as \n",
    "\\begin{align}\n",
    "\\gamma m v\\frac{d^{2}x}{ds^{2}}&=-qGx\\\\\n",
    "\\gamma m v\\frac{d^{2}y}{ds^{2}}&=qGy\n",
    "\\end{align}\n",
    "\n",
    "Using the definition of the rigidity $B\\rho$, the EOM can be rewritten as :\n",
    "\\begin{align}\n",
    "\\frac{d^{2}x}{ds^{2}}&=-\\frac{G}{B\\rho}x\\\\\n",
    "\\frac{d^{2}y}{ds^{2}}&=\\frac{G}{B\\rho}y\n",
    "\\end{align}\n",
    "\n",
    "Then, we define the normalized quadrupole strength $k=G/(B\\rho)$, the EOM is simply:\n",
    "\\begin{align}\n",
    "\\frac{d^{2}x}{ds^{2}}+kx&=0\\\\\n",
    "\\frac{d^{2}y}{ds^{2}}-ky&=0\n",
    "\\end{align}\n",
    "\n",
    "Depend on the sign of $k$, it is easy to solve the differential equation:\n",
    "\\begin{equation}\n",
    "x\\left(s\\right)=\n",
    "\\begin{cases}\n",
    "a \\cos \\left(\\sqrt{k}s\\right)+b \\sin \\left(\\sqrt{k}s\\right)&k>0\\\\\n",
    "a s + b &k=0\\\\\n",
    "a \\cosh \\left(\\sqrt{-k}s\\right)+b\\sinh \\left(\\sqrt{-k}s\\right)&k<0\n",
    "\\end{cases}\n",
    "\\end{equation}\n",
    "\n",
    "The three cases corresponds to a focusing quadrupole, drift space and a defocusing quadrupole respectively. The parameter $a$, $b$ are determined by the initial particle position $x$ and its derivative $x'$. We also learn that the quadrupole will always focus the particles in one transverse direction and defocus in the other.\n",
    "\n",
    "In general, the focusing strength can be also function of the longitudinal direction and the EOM of transverse motion (using horizontal direction $\\hat{x}$ as an example) gives:\n",
    "\\begin{equation}\n",
    "\\frac{d^{2}x}{ds^{2}}+k\\left(s\\right)x=0\n",
    "\\end{equation}\n",
    "\n",
    "This ODE is named Hill's equation.  It can be rewritten as:\n",
    "\\begin{align}\n",
    "\\frac{dx}{ds}&=x'\\\\\n",
    "\\frac{dx'}{ds}&=-k(s)x\n",
    "\\end{align}\n",
    "\n",
    "They are just the form of Hamiltonian equations of the Hamiltonian:\n",
    "\\begin{align}\n",
    "H=\\frac{1}{2}x'^2+\\frac{1}{2}k(s)x^2\n",
    "\\end{align}\n",
    "Latter we will use alternative method to rederive this equation and try to solve it in general."
   ]
  },
  {
   "cell_type": "markdown",
   "metadata": {},
   "source": [
    "## Curvilinear Coordinate System"
   ]
  },
  {
   "cell_type": "markdown",
   "metadata": {},
   "source": [
    "The ideal trajectory is usually used as reference for the dynamics of the charged particles. This trajectory can be determined from a vector $\\mathbf{r_0}\\left(t\\right)$. The length along the curve is given by \n",
    "\\begin{align}\n",
    "s(t)=\\int_0^t \\left|\\mathbf{r'_0}\\left(t^\\prime\\right)\\right| dt^\\prime\n",
    "\\end{align}\n",
    "Therefore our study is usually performed in the curvilinear coordinate system, named Frenet-Serret coordinate system, as illustrated in the figure:\n",
    "<img src=curvilinear_frame.png width=300>\n",
    "\n",
    "In this representation, the independent variable is the location on the reference orbit $s$.  The reference point on the reference orbit is defined by the vector $\\mathbf{r_0}\\left(s\\right)$.  The unit vector of the tangent direction is given by:\n",
    "\\begin{equation}\n",
    "\\hat{s}\\left(s\\right)=\\frac{d\\mathbf{r_0}\\left(s\\right)}{ds}\n",
    "\\end{equation}\n",
    "\n",
    "The unit vector of the tangent plane and the normal plane is:\n",
    "\\begin{equation}\\hat{x}\\left(s\\right)=-\\rho\\left(s\\right)\\frac{d\\hat{s}\\left(s\\right)}{ds}\n",
    "\\end{equation}\n",
    "\n",
    "Here $\\rho$ denotes the local radius, which is the recipocal of the curvature $\\kappa$. At last, the binormal vector is simply defined by:\n",
    "\\begin{equation}\n",
    "\\hat{y}\\left(s\\right)=\\hat{s}\\left(s\\right)\\times\\hat{x}\\left(s\\right)\n",
    "\\end{equation}\n"
   ]
  },
  {
   "cell_type": "markdown",
   "metadata": {},
   "source": [
    "We defining The derivative of the unit vectors are:\n",
    "\\begin{align}\n",
    "\\frac{d\\hat{s}\\left(s\\right)}{ds} &= -\\kappa\\left(s\\right) \\hat{x}\\left(s\\right)\\\\\n",
    "\\frac{d\\hat{x}\\left(s\\right)}{ds} &= \\kappa\\left(s\\right) \\hat{s}\\left(s\\right)+\\tau\\left(s\\right)\\hat{y}\\left(s\\right)\\\\\n",
    "\\frac{d\\hat{y}\\left(s\\right)}{ds} &= -\\tau\\left(s\\right)\\hat{x}\\left(s\\right)\n",
    "\\end{align}\n",
    "\n",
    "\n",
    "Here, $\\tau$ is the local torsion of the curve.\n",
    "In matrix form, the relation can be expressed as:\n",
    "\\begin{equation}\n",
    "\\frac{{d}}{ds}\\left(\\begin{array}{c}\n",
    "\\hat{{s}}\\\\\n",
    "\\hat{{x}}\\\\\n",
    "\\hat{y}\n",
    "\\end{array}\\right)=\\left(\\begin{array}{ccc}\n",
    "0 & -\\kappa & 0\\\\\n",
    "\\kappa & 0 & \\tau\\\\\n",
    "0 & -\\tau & 0\n",
    "\\end{array}\\right)\\left(\\begin{array}{c}\n",
    "\\hat{{s}}\\\\\n",
    "\\hat{{x}}\\\\\n",
    "\\hat{y}\n",
    "\\end{array}\\right)\n",
    "\\end{equation}\n",
    "\n",
    "In most cases, we focus our discussion on the motion in plane geometry, therefore the torsion is zero."
   ]
  },
  {
   "cell_type": "markdown",
   "metadata": {},
   "source": [
    "Then, the coordinate of particle can be expressed as:\n",
    "\\begin{equation}\n",
    "\\mathbf{r}=\\mathbf{r_0}\\left(s\\right)+x\\hat{x}\\left(s\\right)+y\\hat{y}\\left(s\\right)\n",
    "\\end{equation}\n",
    "\n",
    "Compared with the Cartesian coordinate system, $\\mathbf{r}=x \\hat{x}+y \\hat{y}+z \\hat{z} $, the differentials give: $\\partial \\mathbf{r}/\\partial x = \\hat{x}$, $\\partial \\mathbf{r}/\\partial y = \\hat{y}$, $\\partial \\mathbf{r}/\\partial z = \\hat{z}$; the differentials of the Frenet-Serret Coordinate yields:\n",
    "\\begin{align}\n",
    "\\frac{\\partial \\mathbf{r}}{\\partial s} &= \\hat{s}\\left(1+ \\kappa x\\right) \\\\\n",
    "\\frac{\\partial \\mathbf{r}}{\\partial x} &= \\hat{x} \\\\\n",
    "\\frac{\\partial \\mathbf{r}}{\\partial y} &= \\hat{y}\n",
    "\\end{align}\n",
    "\n",
    "The Lame coefficient of the Frenet-Serret coordinate system is $h_s=1+\\kappa x$ and $h_x=h_y=1$."
   ]
  },
  {
   "cell_type": "markdown",
   "metadata": {},
   "source": [
    "In this coordinate system, the vector operation has different form, for example:\n",
    "\\begin{equation}\n",
    "\\nabla \\phi = \\frac{1}{1+\\kappa x}\\frac{\\partial \\phi}{\\partial s}\\hat{s}+\\frac{\\partial \\phi}{\\partial x}\\hat{x}+\\frac{\\partial \\phi}{\\partial y}\\hat{y}\n",
    "\\end{equation}\n",
    "And the curl of the vector gives:\n",
    "\\begin{equation}\n",
    "\\nabla\\times A=\\frac{1}{1+\\kappa x}\\left|\\begin{array}{ccc}\n",
    "\\left(1+\\kappa x\\right)\\hat{{s}} & \\hat{{x}} & \\hat{y}\\\\\n",
    "\\frac{\\partial}{\\partial s} & \\frac{\\partial}{\\partial x} & \\frac{\\partial}{\\partial y}\\\\\n",
    "\\left(1+\\kappa x\\right)A_{s} & A_{x} & A_{y}\n",
    "\\end{array}\\right|\n",
    "\\end{equation}"
   ]
  },
  {
   "cell_type": "markdown",
   "metadata": {},
   "source": [
    "## Hamiltonian Approach"
   ]
  },
  {
   "cell_type": "markdown",
   "metadata": {},
   "source": [
    "### Lagrangian to Hamiltonian"
   ]
  },
  {
   "cell_type": "markdown",
   "metadata": {},
   "source": [
    "We consider the approach from Lagrangian of a relativistic charged particle in a E-M field.\n",
    "\\begin{equation}\n",
    "L\\left(\\mathbf{x}, \\mathbf{v}, t\\right)=\n",
    "-mc^2\\sqrt{1-\\frac{v^2}{c^2}}\n",
    "+e\\mathbf{v}\\cdot \\mathbf{A}\\left(\\mathbf{x},t\\right)\n",
    "-e\\phi \\left(\\mathbf{x},t\\right)\n",
    "\\end{equation}\n",
    "\n",
    "Here, $\\mathbf{x}$ is the position and the velocity is $\\mathbf{v}=\\dot{\\mathbf{x}} =d\\mathbf{x}/dt$. The vector potential $\\mathbf{A}$ and scalar potential $\\phi$ is the function of the position and time.  The fields is calculated as:\n",
    "\\begin{align}\n",
    "\\mathbf{E}&=-\\nabla\\phi-\\frac{\\partial\\mathbf{A}}{\\partial t}\\\\\n",
    "\\mathbf{B}&=\\nabla\\times\\mathbf{A}\n",
    "\\end{align}"
   ]
  },
  {
   "cell_type": "markdown",
   "metadata": {},
   "source": [
    "The equation of motion can be derived from the equation\n",
    "\\begin{equation}\n",
    "\\frac{\\partial L}{x_i}=\\frac{d}{dt}\\frac{\\partial L}{\\dot{x}_i}\n",
    "\\end{equation}\n",
    "\n",
    "Using the Lagrangian above will get the EOM with Lorentz force. "
   ]
  },
  {
   "cell_type": "markdown",
   "metadata": {},
   "source": [
    "We are interested in the generalized momentum $P_i$ of the $i^{th}$ coordinate $x_i$ which is given by:\n",
    "\\begin{align}\n",
    "P_i&=\\frac{\\partial L}{\\partial \\dot{x}_i} \\nonumber\\\\\n",
    "   &=\\frac{m\\dot{x}_i}{\\sqrt{1-\\frac{v^2}{c^2}}}+eA_i \\nonumber\\\\\n",
    "   &=p_i+eA_i\n",
    "\\end{align}\n",
    "\n",
    "Here $p_i$ is the momentum of the particle.  The above components can be combined to get a vector form, $\\mathbf{P}=\\mathbf{p}+e\\mathbf{A}$, between the generalized (or conjugate) momentum $\\mathbf{P}$, the momentum $\\mathbf{p}$ and the vector potential $\\mathbf{A}$."
   ]
  },
  {
   "cell_type": "markdown",
   "metadata": {},
   "source": [
    "Then the Hamiltonian is calculated as:\n",
    "\\begin{align}\n",
    "H&=\\mathbf{v}\\cdot\\mathbf{P}-L \\nonumber\\\\\n",
    "&=\\mathbf{v}\\cdot\\mathbf{p}+e\\mathbf{v}\\cdot\\mathbf{A}+mc^2\\sqrt{1-\\frac{v^2}{c^2}}\n",
    "    -e\\mathbf{v}\\cdot \\mathbf{A}\\left(\\mathbf{x},t\\right)\n",
    "    +e\\phi \\left(\\mathbf{x},t\\right) \\nonumber\\\\\n",
    "&=\\gamma m v^2 +mc^2\\sqrt{1-\\frac{v^2}{c^2}}+e\\phi \\left(\\mathbf{x},t\\right) \\nonumber\\\\\n",
    "&=(\\gamma\\beta^2+1/\\gamma)mc^2+e\\phi \\left(\\mathbf{x},t\\right) \\nonumber\\\\\n",
    "&=\\gamma mc^2 +e\\phi \\left(\\mathbf{x},t\\right)\n",
    "\\end{align}\n",
    "\n",
    "\n",
    "With no surprise, the Hamiltonian reflects the total energy of the particle and the potential energy in the E-M field. For further analysis, we express the Hamiltonian as function of the conjugate variable pair:\n",
    "\\begin{align}\n",
    "H(\\mathbf{x},\\mathbf{p})&=H\\left(x_1,\\cdots,x_n, P_1,\\cdots,P_n, t\\right)\\\\\n",
    "&=\\sqrt{\\left(m c^2\\right)^2\n",
    "+\\left(\\mathbf{P}-e\\mathbf{A}\\left(\\mathbf{x},t\\right)\\right)^2c^2}\n",
    "+e\\phi\\left(\\mathbf{x},t\\right)\n",
    "\\end{align}\n",
    "\n",
    "Later we will use a series of canonical transformations to change the coordinates and independent variable.  A generating function is handy to create the canonical transformations from old coordinate $(q,p)$ to a new set (Q,P). There are four types of generating functions:\n",
    "<img src=generating_function.png width=220 style=\"float: right;margin: 20px 20px 20px 20px;\" >\n",
    "\n",
    "\\begin{align}\n",
    "F_1=F_1(\\mathbf{q},\\mathbf{Q},t) \\quad &  \\mathbf{p}=\\frac{\\partial F_1}{\\partial \\mathbf{q}}; \\mathbf{P}=-\\frac{\\partial F_1}{\\partial \\mathbf{Q}}\\\\\n",
    "F_2=F_2(\\mathbf{q},\\mathbf{P},t) \\quad & \\mathbf{p}=\\frac{\\partial F_2}{\\partial \\mathbf{q}}; \\mathbf{Q}=\\frac{\\partial F_2}{\\partial \\mathbf{P}}\\\\\n",
    "F_3=F_3(\\mathbf{p},\\mathbf{Q},t) \\quad & \\mathbf{q}=-\\frac{\\partial F_3}{\\partial \\mathbf{p}}; \\mathbf{P}=-\\frac{\\partial F_3}{\\partial \\mathbf{Q}}\\\\\n",
    "F_4=F_4(\\mathbf{p},\\mathbf{P},t) \\quad & \\mathbf{q}=-\\frac{\\partial F_4}{\\partial \\mathbf{P}}; \\mathbf{Q}=\\frac{\\partial F_4}{\\partial \\mathbf{P}}\n",
    "\\end{align}\n",
    "\n",
    "\n",
    "\n",
    "The right figure shows a way to remember the relative relations of the generating functions.  The new Hamiltonian $K(Q,P,t)$ is calculated by:\n",
    "\\begin{align}\n",
    "K(\\mathbf{Q},\\mathbf{P},t)=H\\left(\\mathbf{q}(\\mathbf{Q},\\mathbf{P}),\\mathbf{p}(\\mathbf{Q},\\mathbf{P})\\right)+\\frac{\\partial F}{\\partial t}\n",
    "\\end{align}\n",
    "\n",
    "\n",
    "\n"
   ]
  },
  {
   "cell_type": "markdown",
   "metadata": {},
   "source": [
    "### Transformation to Frenet-Serret coordinate system"
   ]
  },
  {
   "cell_type": "markdown",
   "metadata": {},
   "source": [
    "The first necessary transformation that we need to make is to change the coordinate system to the Frenet-Serret coordinate system, i.e. from Cartesian coordinate $\\mathbf{r}=x\\hat{x}+y\\hat{y}+z\\hat{z}$ to $\\mathbf{r}=\\mathbf{r}_0(s)+x\\hat{x}(s)+y\\hat{y}(s)$.  \n",
    "We use the generating function of the $3^{rd}$ type to perform this transformation:\n",
    "\\begin{equation}\n",
    "F_3=-\\mathbf{P}\\cdot\\left(\\mathbf{r}_0(s)+x\\hat{x}(s)+y\\hat{y}(s)\\right)\n",
    "\\end{equation}\n",
    "\n",
    "\n",
    "The new conjugate momentum, $\\boldsymbol{\\Pi}$ can be calculated as:\n",
    "\\begin{align}\n",
    "\\Pi_x&=-\\frac{\\partial F_3}{\\partial x}=\\mathbf{P}\\cdot\\hat{x}\\\\\n",
    "\\Pi_y&=-\\frac{\\partial F_3}{\\partial y}=\\mathbf{P}\\cdot\\hat{y}\\\\\n",
    "\\Pi_s&=-\\frac{\\partial F_3}{\\partial s}=\\mathbf{P}\\cdot\\hat{s}\\left(1+\\frac{x}{\\rho}\\right)\\\\\n",
    "\\end{align}\n",
    "\n",
    "Therefore, in the Frenet-Serret coordinate system:\n",
    "\\begin{equation}\n",
    "H=c\\sqrt{\n",
    "\\left(m c\\right)^2\n",
    "+\\left(\\Pi_x-eA_x\\right)^2+\\left(\\Pi_y-eA_y\\right)^2\n",
    "+\\left(\\frac{\\Pi_s}{1+x/\\rho}-eA_s\\right)^2\n",
    "} +e\\phi\n",
    "\\end{equation}\n",
    "\n",
    "\n",
    "The vector potential now also take its components from the Frenet-Serret coordinate system as $A_x=\\mathbf{A}\\cdot\\hat{x}$, $A_y=\\mathbf{A}\\cdot\\hat{y}$ and $A_s=\\mathbf{A}\\cdot\\hat{s}$.  Sometimes, the longitudinal component of the vector potential also can be define as $A_s=\\mathbf{A}\\cdot \\frac{\\partial \\mathbf{r}}{\\partial s}= (1+x/\\rho) \\mathbf{A}\\cdot\\hat{s}$, which will **NOT** be used in the latter contents.\n",
    "    \n"
   ]
  },
  {
   "cell_type": "markdown",
   "metadata": {},
   "source": [
    "### Use $s$ as independent variable"
   ]
  },
  {
   "cell_type": "markdown",
   "metadata": {},
   "source": [
    "Next, we need charge the independent coordinate from time to '$s$', the position on the reference orbit. The Hamiltonian above is function of $(x,\\Pi_x, y, \\Pi_y, s, \\Pi_s,t)$ and the Hamiltonian equation are:\n",
    "\\begin{align}\n",
    "\\frac{\\partial H}{\\partial x}&=-\\dot{\\Pi}_x & \\frac{\\partial H}{\\partial \\Pi_x}&=\\dot{x} \\\\\n",
    "\\frac{\\partial H}{\\partial y}&=-\\dot{\\Pi}_y & \\frac{\\partial H}{\\partial \\Pi_y}&=\\dot{y} \\\\\n",
    "\\frac{\\partial H}{\\partial s}&=-\\dot{\\Pi}_s & \\frac{\\partial H}{\\partial \\Pi_s}&=\\dot{s}\n",
    "\\end{align}\n",
    "\n",
    "To change the independent coordinate to $s$, we first look at the derivative:\n",
    "\\begin{equation}\n",
    "x^\\prime\\equiv\\frac{dx}{ds}=\\frac{dx}{dt}\\left(\\frac{ds}{dt}\\right)^{-1}\n",
    "=\\frac{\\partial H}{\\partial \\Pi_x}\\left(\\frac{\\partial H}{\\partial \\Pi_s}\\right)^{-1}\n",
    "\\end{equation}\n",
    "\n",
    "\n",
    "Using the differential chain rule of the implicit equation $H(x,\\Pi_x, y, \\Pi_y, s, \\Pi_s,t)-f(t)=0$, we have:\n",
    "\n",
    "\\begin{equation}\n",
    "x^\\prime\\equiv\\frac{dx}{ds}=-\\frac{\\partial \\Pi_s}{\\partial \\Pi_x}\n",
    "\\end{equation}\n",
    "\n",
    "\n",
    "Use the similar trick, we will find that \n",
    "\\begin{align}\n",
    "{\\Pi_x}^\\prime&\\equiv\\frac{d\\Pi_x}{ds}=\\frac{\\partial \\Pi_s}{\\partial x}\\\\\n",
    "y^\\prime&\\equiv\\frac{dy}{ds}=-\\frac{\\partial \\Pi_s}{\\partial \\Pi_y}\\\\\n",
    "{\\Pi_y}^\\prime&\\equiv\\frac{d\\Pi_y}{ds}=\\frac{\\partial \\Pi_s}{\\partial y}\\\\\n",
    "\\end{align}\n",
    "\n",
    "We also find the other two relationship easily:\n",
    "\\begin{equation}\n",
    "t^\\prime\\equiv\\frac{dt}{ds}=\\left(\\frac{\\partial H}{\\partial \\Pi_s}\\right)^{-1}=\\frac{\\partial \\Pi_s}{\\partial H}\n",
    "\\end{equation}\n",
    "\n",
    "\n",
    "\\begin{equation}\n",
    "H^\\prime\\equiv\\frac{dH}{ds}=-\\frac{\\partial \\Pi_s}{\\partial t}\n",
    "\\end{equation}\n",
    "\n",
    "\n",
    "Therefore we can choose the new Hamiltonian $K=-\\Pi_s(x,\\Pi_x, y, \\Pi_y, H, t,s)$, which will satisfy the Hamiltonian relation.  However, it is awkward to set $H$ as the 'coordinate' and $t$ as 'general momentum'.  To fix this, we can set the conjugate pair as $(t,-H)$.  Therefore the new Hamiltonian reads:\n",
    "\\begin{align}\n",
    "K\\left(x,\\Pi_x, y, \\Pi_y, t, -H,s\\right) = -\\Pi_s \\nonumber\\\\\n",
    "=-\\left(1+\\frac{x}{\\rho}\\right)\\sqrt{\\left(\\frac{H-e\\phi}{c}\\right)^2-(mc)^2-\\left(\\Pi_x-eA_x\\right)^2-\\left(\\Pi_y-eA_y\\right)^2}\\nonumber\\\\-eA_s\\left(1+\\frac{x}{\\rho}\\right)\n",
    "\\end{align}"
   ]
  },
  {
   "cell_type": "markdown",
   "metadata": {},
   "source": [
    "### Simplifications of Hamiltonian"
   ]
  },
  {
   "cell_type": "markdown",
   "metadata": {},
   "source": [
    "Since the new Hamiltonian has a very complicated form, we will use the following simplifications. \n",
    "* First, we have seen that for 2-D magnetic field, only the longitudinal vector potential is needed. We can set the both transverse potential to be zero: $A_x=A_y=0$. Then, the generalized momentum reduce to the particle's momentum $\\Pi_{x/y}=p_{x/y}$.\n",
    "* Second, let us assume the potential $\\phi$ is not time dependent, then we can make canonical transformation $(t, -H)$ to $(t, -h)$ with $h=H-e\\phi$.  $h$ is just the total energy of the particle and the first two terms give the momentum of the particle  $p^2=\\left(h/c\\right)^2-(mc)^2$. \n",
    "\n",
    "* Third, Let's define a reference momentum of the particle $p_0$, and each particle will have a deviation from the reference, $p=p_0(1+\\delta)$.  $\\delta$ is called fractional momentum deviation. We scale the Hamiltonian $K$ by factor of $p_0$ and get new $\\tilde{K}$.\n",
    "\\begin{equation}\n",
    "\\frac{K}{p_0}\n",
    "\\equiv\\tilde{K}\\left(x, \\tilde{p_x}=\\frac{p_x}{p_0}, y, \\tilde{p_y}=\\frac{p_y}{p_0}, t,-h=\\frac{-H}{p_0}\\right)=\\\\\n",
    "-\\left(1+\\frac{x}{\\rho}\\right)\n",
    "\\sqrt{\\left(\\frac{h}{c}\\right)^2-\\left(\\frac{mc^2}{p_0}\\right)^2-\\tilde{p_x}^2-\\tilde{p_y}^2}\n",
    "-e\\frac{A_s}{p_0}\\left(1+\\frac{x}{\\rho}\\right)\n",
    "\\end{equation}\n",
    "\n",
    "\n",
    "\n",
    "* Last, we will make a canonical transformation from the pair $(t, -h)$ to $(z,\\delta)$ with generating function $F_2=f(\\delta)t$ and \n",
    "\\begin{equation}\n",
    "-h=\\frac{\\partial F_2}{\\partial t}=f(\\delta)\n",
    "\\end{equation}\n",
    "The new coordinate $z$ is calculated as\n",
    "\\begin{align}\n",
    "z&=\\frac{\\partial F_2}{\\partial \\delta} \\nonumber \\\\\n",
    "&=\\left(-\\sqrt{c^2(1+\\delta)^2+m^2c^4}\\right)'t\\nonumber \\\\\n",
    "&=-\\beta ct\n",
    "\\end{align}\n",
    "the Hamiltonian becomes:\n",
    "\n",
    "\\begin{equation}\n",
    "\\tilde{K}\\left(x, \\tilde{p_x}, y, \\tilde{p_y}, z=-\\beta ct, \\delta,s\\right)=-\\left(1+\\frac{x}{\\rho}\\right)\\sqrt{(1+\\delta)^2-\\tilde{p_x}^2-\\tilde{p_y}^2} \n",
    "-e\\frac{A_s}{p_0}\\left(1+\\frac{x}{\\rho}\\right)\n",
    "\\end{equation}\n",
    "\n",
    "\n",
    "The new longitudinal coordinate $z$ has the meaning: the distance of the particle travels at current speed.\n",
    "\n",
    "For later convenience, we remove the tilde of the above Hamiltonian and it looks like:\n",
    "\n",
    "\\begin{equation}\n",
    "\\tilde{K}\\left(x, \\tilde{p_x}, y, \\tilde{p_y}, z=-\\beta ct, \\delta,s\\right)=-\\left(1+\\frac{x}{\\rho}\\right)\\sqrt{(1+\\delta)^2-\\tilde{p_x}^2-\\tilde{p_y}^2} \n",
    "-e\\frac{A_s}{p_0}\\left(1+\\frac{x}{\\rho}\\right)\\label{eq:Hamiltonian_popular_form}\n",
    "\\end{equation}\n"
   ]
  },
  {
   "cell_type": "markdown",
   "metadata": {},
   "source": [
    "### Further assumptions"
   ]
  },
  {
   "cell_type": "markdown",
   "metadata": {},
   "source": [
    "The above Hamiltonian can be consider as exact in most accelerator cases.  Next, we will make assumptions and expand the Hamiltonian up to 2nd order.  The assumptions includes:\n",
    "* Momentum spread is very small. For any particle, $\\delta \\ll 1$\n",
    "* Paraxial approximation, the longitudinal momentum is close to the reference momentum and $p_x,p_y \\ll 1$\n",
    "\n",
    "Then we can expand the Hamiltonian up to 2nd order in $p_x$ and $p_y$ and have:\n",
    "\\begin{align}\n",
    "K\\left(x, p_x, y, p_y, z, \\delta,s\\right)&=-(1+\\delta)\\left(1+\\frac{x}{\\rho}\\right)\\left(1-\\frac{p_x^2}{2(1+\\delta)^2}-\\frac{p_y^2}{2(1+\\delta)^2}\\right)\n",
    "-e\\frac{A_s}{p_0}\\left(1+\\frac{x}{\\rho}\\right)   \\nonumber\\\\\n",
    "&=-\\left(1+\\frac{x}{\\rho}\\right)\\left(1+\\delta-\\frac{p_x^2}{2(1+\\delta)}-\\frac{p_y^2}{2(1+\\delta)}\\right)\n",
    "-e\\frac{A_s}{p_0}\\left(1+\\frac{x}{\\rho}\\right)\n",
    "\\end{align}\n",
    "\n",
    "Recall that \n",
    "$$p_x=\\frac{\\mathbf{p}\\cdot\\hat{x}}{p_0} \\;;\\; p_y=\\frac{\\mathbf{p}\\cdot\\hat{y}}{p_0}$$\n",
    "\n",
    "is different from the orbit slope:\n",
    "\\begin{equation}\n",
    "x^\\prime\\equiv\\frac{dx}{ds}=\\frac{\\mathbf{p}\\cdot\\hat{x}}{p_s}\\sim\\frac{\\mathbf{p}\\cdot\\hat{x}}{p_0(1+\\delta)}=\\frac{p_x}{1+\\delta}\n",
    "\\end{equation}\n",
    "\n",
    "\\begin{equation}\n",
    "y^\\prime\\equiv\\frac{dy}{ds}=\\frac{\\mathbf{p}\\cdot\\hat{y}}{p_s}\\sim\\frac{\\mathbf{p}\\cdot\\hat{y}}{p_0(1+\\delta)}=\\frac{p_y}{1+\\delta}\n",
    "\\end{equation}\n",
    "\n",
    "\n",
    "Therefore, we only consider the transverse motion without energy dependence, the slope $x^\\prime$ and $y^\\prime$ can be used as conjugate momentum in paraxial approximation.  Otherwise using the slope instead of $p_x$ and $p_y$ will violate Hamiltonian dynamics."
   ]
  },
  {
   "cell_type": "markdown",
   "metadata": {},
   "source": [
    "In 4-Dimensional motion for particle with reference momentum, the Hamiltonian is\n",
    "\n",
    "\\begin{equation}\n",
    "K\\left(x, p_x, y, p_y,s\\right)=-\\left(1+\\frac{x}{\\rho}\\right)\\left(1-\\frac{p_x^2}{2}-\\frac{p_y^2}{2}\\right)\n",
    "-e\\frac{A_s}{p_0}\\left(1+\\frac{x}{\\rho}\\right)   \n",
    "\\end{equation}\n"
   ]
  },
  {
   "cell_type": "markdown",
   "metadata": {},
   "source": [
    "### Vector potentials for linear elements"
   ]
  },
  {
   "cell_type": "markdown",
   "metadata": {},
   "source": [
    "Now, its time to consider the real form for the vector potential $A_s$.  We will limit our discussion within linear regime.\n",
    "\n",
    "For a main dipole, where the reference orbit bend inside with radius $\\rho$ or its reciprocal, curvature $\\kappa=1/\\rho$, we need to find $A_s$ to get vertical magnetic field $\\mathbf{B}=B_0(s)\\hat{y}$ in the Frenet-Serret coordinate system:\n",
    "\\begin{equation}\n",
    "B_0(s)=-\\frac{1}{1+\\kappa x}\\frac{\\partial\\left((1+\\kappa x)A_s\\right)}{\\partial x}\n",
    "\\end{equation}\n"
   ]
  },
  {
   "cell_type": "markdown",
   "metadata": {},
   "source": [
    "It seems exact solution for this differential equation doesnot exist.  However, with the assumption of $\\left|x\\right|\\kappa \\ll 1$, we can get approximation of $A_s$ up to second order.  Let's assume $A_s=-B_0(s)(a x + bx^2)$.  Then we get:\n",
    "\\begin{equation}\n",
    "1+\\kappa x=\\frac{\\partial\\left((1+\\kappa x)(ax+bx^2)\\right)}{\\partial x}\n",
    "\\end{equation}\n",
    "\n",
    "\n",
    "By solve the index of the $0^{th}$ and $1^{th}$ terms, we get $a=1$ and $b=-\\kappa/2$.   Therefore in a constant field main dipole:\n",
    "\\begin{equation}\n",
    "A_{s,d}\\approx-B_0\\left(x - \\frac{x^2}{2\\rho}\\right)\n",
    "\\end{equation}\n"
   ]
  },
  {
   "cell_type": "markdown",
   "metadata": {},
   "source": [
    "For quadrupole, the radius is infinity.  The vector potential will be the same as its form in a Cartesian coordinate.  From the Beth's representation:\n",
    "\\begin{equation}\n",
    "A_{s,q}=-B_0 b_1(s) \\left(x^2-y^2\\right)/2=-G(s)\\left(x^2-y^2\\right)/2\n",
    "\\end{equation}\n",
    "\n",
    "Here $G(s)$ is the field gradient in unit of [Tesla/m]."
   ]
  },
  {
   "cell_type": "markdown",
   "metadata": {},
   "source": [
    "We get the Hamiltonian and truncate down to second order, and recall that the rigidity $B_0 \\rho=p_0/e$:\n",
    "\\begin{align}\n",
    "K\\left(x, p_x, y, p_y,s\\right)&=-\\left(1+\\frac{x}{\\rho}\\right)\\left(1-\\frac{p_x^2}{2}-\\frac{p_y^2}{2}\\right)\n",
    "+\\frac{eB_0}{p_0}\\left(1+\\frac{x}{\\rho}\\right)\\left(x-\\frac{x^2}{2\\rho}\\right)\\nonumber\\\\\n",
    "+\\frac{eB_0b_1}{2p_0}\\left(x^2-y^2\\right) \\nonumber\\\\\n",
    "&=-\\left(1+\\frac{x}{\\rho}\\right)\\left(1-\\frac{p_x^2}{2}-\\frac{p_y^2}{2}\\right)\n",
    "+\\frac{1}{\\rho}\\left(1+\\frac{x}{\\rho}\\right)\\left(x-\\frac{x^2}{2\\rho}\\right)+\\frac{G(s)}{2B_0\\rho}\\left(x^2-y^2\\right) \\nonumber\\\\\n",
    "&\\approx -1+\\frac{p_x^2}{2}+\\frac{p_y^2}{2}+\\frac{x^2}{2\\rho^2}+k(s)\\left(x^2-y^2\\right)/2\n",
    "\\end{align}\n",
    "\n",
    "Here we use normalized quadrupole strength $k(s)=G(s)/B_0\\rho$.  It is the most useful quantity in the simulation to characterize the strength of a quadrupole."
   ]
  },
  {
   "cell_type": "markdown",
   "metadata": {},
   "source": [
    "In the approximate Hamiltonian of dipole and normal quadrupole, we can first ignore the constant, then split it in to two separate Hamiltonian, one for each transverse direction.\n",
    "$$K\\left(x, p_x, y, p_y,s\\right)=K_x\\left(x, p_x,s\\right)+K_y\\left( y, p_y,s\\right)$$\n",
    "This indicate that the motion of two directions are de-coupled and can be treat separately.\n",
    "\\begin{align}\n",
    "K_x\\left(x,p_x,s\\right)&=\\frac{p_x^2}{2}+\\frac{x^2}{2\\rho^2}+\\frac{k(s)x^2}{2} \\\\\n",
    "K_y\\left(y,p_y,s\\right)&=\\frac{p_y^2}{2}-\\frac{k(s)y^2}{2}\n",
    "\\end{align}\n",
    "\n",
    "The equations of motion can be found from Hamiltonian equation:\n",
    "\\begin{align}\n",
    "& x''+\\left(\\frac{1}{\\rho^2}+k(s)\\right)x=0 \\\\\n",
    "& y''-k(s)y=0\n",
    "\\end{align}\n",
    "\n",
    "We returned to the Hill's equation including both the main dipole and quadrupole in the Frenet-Serret coordinate system. "
   ]
  },
  {
   "cell_type": "markdown",
   "metadata": {},
   "source": [
    "Combine the effect of dipole and quad, there is an chance to have focusing effect in both plane:\n",
    "\\begin{align}\n",
    "-\\frac{1}{\\rho^2}<k(s)<0\n",
    "\\end{align}\n",
    "\n",
    "If a machine can have this condition through out, the motion of both transverse plane will be stable.  This is called **weak focusing**."
   ]
  },
  {
   "cell_type": "markdown",
   "metadata": {},
   "source": [
    "## Transfer Matrix for Linear Elements\n",
    "\n",
    "It is convenient to write the solution of the Hill's equation using matrix form.  Such matrix is named betatron transfer matrix.  The motion in each transverse direction can be described by $2\\times 2$ matrix."
   ]
  },
  {
   "cell_type": "markdown",
   "metadata": {},
   "source": [
    "### Drift space"
   ]
  },
  {
   "cell_type": "markdown",
   "metadata": {},
   "source": [
    "The EOM for drift space is simply $x''=0$ and $y''=0$.  Using horizontal direction as instance, if the initial condition at the starting point $s_0$ are $x(s=s_0)=x_0$ and $x'(s=s_0)={x_0'}$.  The solution is:\n",
    "\\begin{equation}\n",
    "x(s=s_0+l)=x_0+x'_0l\n",
    "\\end{equation}\n",
    "Or in matrix form\n",
    "\\begin{equation}\n",
    "\\left(\\begin{array}{c}\n",
    "x\\\\\n",
    "x'\n",
    "\\end{array}\\right)_{s=s_0+l}=\\left(\\begin{array}{cc}\n",
    "1 & l\\\\\n",
    "0 & 1\n",
    "\\end{array}\\right)\\left(\\begin{array}{c}\n",
    "x\\\\\n",
    "x\n",
    "\\end{array}\\right)_{s=s_0}\n",
    "\\end{equation}\n",
    "\n",
    "We write the transfer matrix for drift space as:\n",
    "\\begin{equation}M\\left(s_0+s,s_0\\right)=\\left(\\begin{array}{cc}\n",
    "1 & s\\\\\n",
    "0 & 1\n",
    "\\end{array}\\right)\n",
    "\\end{equation}"
   ]
  },
  {
   "cell_type": "markdown",
   "metadata": {},
   "source": [
    "### Dipole (main)"
   ]
  },
  {
   "cell_type": "markdown",
   "metadata": {},
   "source": [
    "For the dipole that bend the beam with the radius $\\rho$ in horizontal plane, the $x$ direction follows an EOM as a harmonic oscillator, while in $y$ direction, the motion is just as in a drift space. \n",
    "\n",
    "The matrix form in the dipole can be easily get as:\n",
    "\\begin{equation}\n",
    "\\left(\\begin{array}{c}\n",
    "x\\\\\n",
    "x'\n",
    "\\end{array}\\right)_{s=s_0+l}=\\left(\\begin{array}{cc}\n",
    "\\cos(l/\\rho) & \\rho\\sin(l/\\rho)\\\\\n",
    "-\\sin(l/\\rho)/\\rho & \\cos(l/\\rho)\n",
    "\\end{array}\\right)\\left(\\begin{array}{c}\n",
    "x\\\\\n",
    "x\n",
    "\\end{array}\\right)_{s=s_0}\n",
    "\\end{equation}\n",
    "\n",
    "The transfer matrix for dipole in horizontal space is:\n",
    "\\begin{equation}\n",
    "M\\left(s_0+l,s_0\\right)=\\left(\\begin{array}{cc}\n",
    "\\cos\\left(\\frac{l}{\\rho}\\right) & \\rho\\sin\\left(\\frac{l}{\\rho}\\right)\\\\\n",
    "-\\frac{1}{\\rho}\\sin\\left(\\frac{l}{\\rho}\\right) & \\cos\\left(\\frac{l}{\\rho}\\right)\n",
    "\\end{array}\\right)\n",
    "\\end{equation}\n",
    "\n",
    "In a small angle approximation $l/\\rho \\ll1$, we can expand the matrix up to first order of $l/\\rho$.  The matrix reduce to a drift space:\n",
    "\\begin{equation}\n",
    "M\\left(s_0+l,s_0\\right)=\\left(\\begin{array}{cc}\n",
    "1 & l\\\\\n",
    "0 & 1\n",
    "\\end{array}\\right)\n",
    "\\end{equation}\n",
    "\n",
    "\n"
   ]
  },
  {
   "cell_type": "markdown",
   "metadata": {},
   "source": [
    "### Quadrupole (Normal)"
   ]
  },
  {
   "cell_type": "markdown",
   "metadata": {},
   "source": [
    "In the example before, we already derived the solution for particle in the quadrupole.  It can be rewritten in the matrix form as \n",
    "\\begin{equation}\n",
    "M\\left(s_0+s,s_0\\right)=\n",
    "\\begin{cases}\n",
    "\\left(\\begin{array}{cc}\n",
    "\\cos\\left(\\sqrt{k}s\\right) & \\sin\\left(\\sqrt{k}s\\right)/\\sqrt{k}\\\\\n",
    "-\\sqrt{k}\\sin\\left(\\sqrt{k}s\\right) & \\cos\\left(\\sqrt{k}s\\right)\n",
    "\\end{array}\\right)&k>0, \\text{Focusing Quad}\\\\\n",
    "\\\\\n",
    "\\left(\\begin{array}{cc}\n",
    "\\cosh\\left(\\sqrt{k}s\\right) & \\sinh\\left(\\sqrt{k}s\\right)/\\sqrt{k}\\\\\n",
    "\\sqrt{k}\\sinh\\left(\\sqrt{k}s\\right) & \\cosh\\left(\\sqrt{k}s\\right)\n",
    "\\end{array}\\right)&k<0, \\text{Defocusing Quad}\\\\\n",
    "\\end{cases}\n",
    "\\end{equation}"
   ]
  },
  {
   "cell_type": "markdown",
   "metadata": {},
   "source": [
    "Usually, the quadrupole has short length and strong field gradient. We may model such short quad as a 'lens with zero length', and define the focal length $f$ as: \n",
    "\\begin{equation}\n",
    "f=\\lim_{l\\to 0}\\frac{1}{|k|l}\n",
    "\\end{equation}\n",
    "\n",
    "In such limit the transfer map for a thin-length quad is \n",
    "\n",
    "\\begin{equation}\n",
    "M_{\\text{quad}}=\n",
    "\\begin{cases}\n",
    "\\left(\\begin{array}{cc}\n",
    "1 & 0\\\\\n",
    "-1/f & 1\n",
    "\\end{array}\\right)& \\text{Focusing Quad}\\\\\n",
    "\\\\\n",
    "\\left(\\begin{array}{cc}\n",
    "1 & 0\\\\\n",
    "1/f & 1\n",
    "\\end{array}\\right)& \\text{Defocusing Quad}\\\\\n",
    "\\end{cases}\n",
    "\\end{equation}"
   ]
  },
  {
   "cell_type": "markdown",
   "metadata": {},
   "source": [
    "### Chain of linear elements"
   ]
  },
  {
   "cell_type": "markdown",
   "metadata": {},
   "source": [
    "<img src=chain_of_elements.png width=400>\n",
    "In accelerators, we have chain of magnets, as illustrated above.  Each magnet has a transfer matrix, the transfer matrix for the chain can be found by matrix multiplications:\n",
    "\\begin{equation}\n",
    "M\\left(s_n,s_0\\right)=M\\left(s_n,s_{n-1}\\right)\\cdots M\\left(s_2,s_1\\right)M\\left(s_1,s_0\\right)\n",
    "\\end{equation}\n",
    "\n",
    "Note that the order of the multiplication is the reverse order of the placement of the magnet."
   ]
  },
  {
   "cell_type": "markdown",
   "metadata": {},
   "source": [
    "### Properties of the betatron transfer matrix"
   ]
  },
  {
   "cell_type": "markdown",
   "metadata": {},
   "source": [
    "#### Symplectic condition"
   ]
  },
  {
   "cell_type": "markdown",
   "metadata": {},
   "source": [
    "Let's return to the most general form of the matrix $M$:\n",
    "\\begin{equation}\n",
    "M(s)=\\left(\\begin{array}{cc}\n",
    "a(s) & b(s)\\\\\n",
    "c(s) & d(s)\n",
    "\\end{array}\\right)\n",
    "\\end{equation}\n",
    "\n",
    "The matrix represent the solution:\n",
    "\\begin{align}\n",
    "x(s)&=x_0a(s)+x'_0b(s)\\\\\n",
    "x'(s)&=x_0c(s)+x'_0d(s)\n",
    "\\end{align}\n",
    "\n",
    "that satisfy the Hill's equation with general focusing term $K(s)$:\n",
    "\\begin{equation}\n",
    "x''+K(s)x=0\n",
    "\\end{equation}\n",
    "\n",
    "It can be constructed from the Hamiltonian, which reads:\n",
    "\\begin{equation}\n",
    "H(x,x')=x'^2+K(s)x^2\n",
    "\\end{equation}\n",
    "\n",
    "The implicit requirement raised from fact that the system is described by a Hamiltonian is called ***symplecticity***.  The symplectic property for a 1-D system is the simplest case.\n",
    "To review this property, we use the concept of Wronskian of differential equation.  For 1-D second order ODE, there aways exist 2 independent solution.  We name it $x_1(s)$ and $x_2(s)$. \n",
    "Wronskian is defined as:\n",
    "\\begin{equation}\n",
    "W\\equiv x_1x'_2-x_2x'_1\n",
    "\\end{equation}\n",
    "And \n",
    "\\begin{align}\n",
    "\\frac{dW}{ds}&=x'_1x'_2+x_1x''_2-x'_2x'_1-x_2x''_1  \\nonumber\\\\\n",
    "&=-K(s)x_1x_2+K(s)x_2x_1 \\nonumber\\\\\n",
    "&=0\n",
    "\\end{align}\n",
    "\n",
    "Therefore Wronskian is the constant of motion and not zero(the two solution are indepedent).  Then from the map:\n",
    "\\begin{equation}\n",
    "\\left(\\begin{array}{cc}\n",
    "x_{1} & x_{2}\\\\\n",
    "x'_{1} & x'_{2}\n",
    "\\end{array}\\right)_{s=s_{0}+s}=\\left(\\begin{array}{cc}\n",
    "a(s) & b(s)\\\\\n",
    "c(s) & d(s)\n",
    "\\end{array}\\right)\\left(\\begin{array}{cc}\n",
    "x_{1} & x_{2}\\\\\n",
    "x'_{1} & x'_{2}\n",
    "\\end{array}\\right)_{s=s_{0}}\n",
    "\\end{equation}\n",
    "\n",
    "Take the determinant on both sides, we have \n",
    "$$W(s_0+s)=det(M(s_0+s,s_0))W(s)$$\n",
    "\n",
    "Since $W(s)$ is constant of motion, therefore ***the determinant of transfer matrix is always 1***.  This is a sufficient and necessary condition of symplecticity for 1-D system.  We will learn later, in multi-dimension problem, this is still a necessary condition but not sufficient anymore.\n"
   ]
  },
  {
   "cell_type": "markdown",
   "metadata": {},
   "source": [
    "#### Long-term stability condition"
   ]
  },
  {
   "cell_type": "markdown",
   "metadata": {},
   "source": [
    "The symplecticity ensures the area phase space is constant.  However, in most times, we have stronger requirements for a repeating chain of elements.  \n",
    "\n",
    "In accelerator, the beam usually will pass through a chain of elements (called cell) many times.  A long lattice usually consist of repeating cells.  In a ring accelerator, the particle will travels through the lattice billions of turns.  If the transfer matrix for one cell is $M$, we are interested in the behavior of repeating $k$ cells\n",
    "$$M_{total}=M\\cdot M\\cdots M\\cdot M=M^k$$\n",
    "where k is a very large integer or infinity.\n",
    "\n",
    "To avoid the either $x$ or $x'$ to be very large (or infinity) after k cells. We required that the absolute value of the eigenvalues of $M$ is no larger than 1.  The eigenvalue is found by:\n",
    "\\begin{equation}\n",
    "\\left|\\begin{array}{cc}\n",
    "\\lambda-a & -b\\\\\n",
    "-c & \\lambda-d\n",
    "\\end{array}\\right|=0\n",
    "\\end{equation}\n",
    "\n",
    "or \n",
    "\\begin{equation}\n",
    "\\lambda^2-(a+d)\\lambda+1=0\n",
    "\\end{equation}\n",
    "\n",
    "To satisfy $|\\lambda|\\le 1$, we require\n",
    "\\begin{equation}\n",
    "\\left|Tr(M)\\right|=\\left|a+d\\right|\\le 2\n",
    "\\end{equation}\n",
    "This is the stable condition for one cell in periodical structure."
   ]
  },
  {
   "cell_type": "markdown",
   "metadata": {},
   "source": [
    "### Revisit, the 'weak focusing'"
   ]
  },
  {
   "cell_type": "markdown",
   "metadata": {},
   "source": [
    "Let's write the matrix term for the weak focusing.  The weak focusing satisfy:\n",
    "\\begin{align}\n",
    "x''+k_x(s)x&=0 \\\\\n",
    "y''+k_y(s)y&=0\n",
    "\\end{align}\n",
    "\n",
    "Here, $k_x(s)$ and $k_y(s)$ are piece wise constant and always positive, and $k_x(s)+k_y(s)=1/\\rho ^2$. \n",
    "\n",
    "Each constant focusing piece, we have:\n",
    "\\begin{align}\n",
    "M_x\\left(s_0+s,s_0\\right)\n",
    "&=\\left(\\begin{array}{cc}\n",
    "\\cos\\left(\\sqrt{k_x}s\\right) & \\sin\\left(\\sqrt{k_x}s\\right)/\\sqrt{k_x}\\\\\n",
    "-\\sqrt{k_x}\\sin\\left(\\sqrt{k_x}s\\right) & \\cos\\left(\\sqrt{k_x}s\\right)\n",
    "\\end{array}\\right)\\\\\n",
    "M_y\\left(s_0+s,s_0\\right)\n",
    "&=\\left(\\begin{array}{cc}\n",
    "\\cos\\left(\\sqrt{k_y}s\\right) & \\sin\\left(\\sqrt{k_y}s\\right)/\\sqrt{k_y}\\\\\n",
    "-\\sqrt{k_y}\\sin\\left(\\sqrt{k_y}s\\right) & \\cos\\left(\\sqrt{k_y}s\\right)\n",
    "\\end{array}\\right)\n",
    "\\end{align}\n",
    "\n",
    "The matrix indicates that except a scaling factor, the transfer matrix is just a rotation of the phase space.  If we define $P_x=x'/\\sqrt{k_x}$ and $P_y=y'/\\sqrt{k_y}$, the transfer matrix for $(x,P_x)$, $(y,P_y)$ are just rotation matrix with angle $\\sqrt{k_{x/y}}s$ respectively.  Then we call the angle **betatron phase advance**."
   ]
  },
  {
   "cell_type": "markdown",
   "metadata": {},
   "source": [
    "<img src=weak_focusing.png width=200>\n",
    "If we have an entire ring, made of weak focusing structure as shown above, the matrix for entire ring gives:\n",
    "\\begin{align}\n",
    "M_x\\left(s_0+C,s_0\\right)\n",
    "&=\\left(\\begin{array}{cc}\n",
    "\\cos\\left(\\sqrt{k_x}2\\pi\\rho\\right) & \\sin\\left(\\sqrt{k_x}2\\pi\\rho\\right)/\\sqrt{k_x}\\\\\n",
    "-\\sqrt{k_x}\\sin\\left(\\sqrt{k_x}2\\pi\\rho\\right) & \\cos\\left(\\sqrt{k_x}2\\pi\\rho\\right)\n",
    "\\end{array}\\right)\\\\\n",
    "M_y\\left(s_0+C,s_0\\right)\n",
    "&=\\left(\\begin{array}{cc}\n",
    "\\cos\\left(\\sqrt{k_y}2\\pi\\rho\\right) & \\sin\\left(\\sqrt{k_y}2\\pi\\rho\\right)/\\sqrt{k_y}\\\\\n",
    "-\\sqrt{k_y}\\sin\\left(\\sqrt{k_y}2\\pi\\rho\\right) & \\cos\\left(\\sqrt{k_y}2\\pi\\rho\\right)\n",
    "\\end{array}\\right)\n",
    "\\end{align}\n",
    "\n",
    "It means, after one turn the phase advance of the two transverse plane is just $2\\pi\\sqrt{k_{x/y}}\\rho$.  We define the transverse tune $\\nu_{x/y}$ is the one turn phase advance in unit of $2\\pi$.  Therefore:\n",
    "\\begin{align}\n",
    "\\nu_x&=\\sqrt{k_{x}}\\rho=\\sqrt{1+\\rho^2 k}\\\\\n",
    "\\nu_y&=\\sqrt{k_{y}}\\rho=\\sqrt{-k}\\rho\n",
    "\\end{align}\n",
    "\n",
    "Therefore for continuous weak-focusing ring, we always have:\n",
    "\\begin{align}\n",
    "\\nu_x^2+\\nu_y^2=1\n",
    "\\end{align}"
   ]
  },
  {
   "cell_type": "markdown",
   "metadata": {},
   "source": [
    "<img src=weak_focusing_drift.png width=200>\n",
    "We may also look at the weak focusing ring is made of several sections with small drift space $L$ in between.  The segment matrix is represented as: \n",
    "\\begin{align}\n",
    "M_{x,seg}\n",
    "&=\\left(\\begin{array}{cc}\n",
    "1 & L/2\\\\\n",
    "0 & 1\n",
    "\\end{array}\\right)\n",
    "\\left(\\begin{array}{cc}\n",
    "\\cos\\left(\\sqrt{k_x}s\\right) & \\sin\\left(\\sqrt{k_x}s\\right)/\\sqrt{k_x}\\\\\n",
    "-\\sqrt{k_x}\\sin\\left(\\sqrt{k_x}s\\right) & \\cos\\left(\\sqrt{k_x}s\\right)\n",
    "\\end{array}\\right)\n",
    "\\left(\\begin{array}{cc}\n",
    "1 & L/2\\\\\n",
    "0 & 1\n",
    "\\end{array}\\right)\\\\\n",
    "\\end{align}"
   ]
  },
  {
   "cell_type": "code",
   "execution_count": 1,
   "metadata": {},
   "outputs": [],
   "source": [
    "import sympy\n",
    "sympy.init_printing(use_unicode=True)"
   ]
  },
  {
   "cell_type": "code",
   "execution_count": 2,
   "metadata": {},
   "outputs": [
    {
     "data": {
      "image/png": "[encoded data removed]",
      "text/latex": [
       "$$\\left[\\begin{matrix}- \\frac{L \\sqrt{k_x}}{2} \\sin{\\left (\\sqrt{k_x} s \\right )} + \\cos{\\left (\\sqrt{k_x} s \\right )} & - \\frac{L^{2} \\sqrt{k_x}}{4} \\sin{\\left (\\sqrt{k_x} s \\right )} + L \\cos{\\left (\\sqrt{k_x} s \\right )} + \\frac{1}{\\sqrt{k_x}} \\sin{\\left (\\sqrt{k_x} s \\right )}\\\\- \\sqrt{k_x} \\sin{\\left (\\sqrt{k_x} s \\right )} & - \\frac{L \\sqrt{k_x}}{2} \\sin{\\left (\\sqrt{k_x} s \\right )} + \\cos{\\left (\\sqrt{k_x} s \\right )}\\end{matrix}\\right]$$"
      ],
      "text/plain": [
       "⎡                                                         2                   \n",
       "⎢  L⋅\\sqrt{k_x}⋅sin(\\sqrt{k_x}⋅s)                        L ⋅\\sqrt{k_x}⋅sin(\\sq\n",
       "⎢- ────────────────────────────── + cos(\\sqrt{k_x}⋅s)  - ─────────────────────\n",
       "⎢                2                                                      4     \n",
       "⎢                                                                             \n",
       "⎢                                                                   L⋅\\sqrt{k_\n",
       "⎢           -\\sqrt{k_x}⋅sin(\\sqrt{k_x}⋅s)                         - ──────────\n",
       "⎣                                                                             \n",
       "\n",
       "                                                    ⎤\n",
       "rt{k_x}⋅s)                         sin(\\sqrt{k_x}⋅s)⎥\n",
       "────────── + L⋅cos(\\sqrt{k_x}⋅s) + ─────────────────⎥\n",
       "                                       \\sqrt{k_x}   ⎥\n",
       "                                                    ⎥\n",
       "x}⋅sin(\\sqrt{k_x}⋅s)                                ⎥\n",
       "──────────────────── + cos(\\sqrt{k_x}⋅s)            ⎥\n",
       "    2                                               ⎦"
      ]
     },
     "execution_count": 2,
     "metadata": {},
     "output_type": "execute_result"
    }
   ],
   "source": [
    "sqkx,s,l=sympy.symbols(\"\\sqrt{k_x},s,L\")\n",
    "def mat_f(sqk,s):\n",
    "    return sympy.Matrix([[sympy.cos(sqk*s),sympy.sin(sqk*s)/sqk],\n",
    "                         [-sympy.sin(sqk*s)*sqk,sympy.cos(sqk*s)]])\n",
    "def mat_d(d):\n",
    "    return sympy.Matrix([[1,d],[0,1]])\n",
    "\n",
    "mat_seg=sympy.simplify(mat_d(l/2)*mat_f(sqkx,s)*mat_d(l/2))\n",
    "mat_seg"
   ]
  },
  {
   "cell_type": "markdown",
   "metadata": {},
   "source": [
    "When $L\\sqrt{k_x}\\ll1$, the diagnal terms can be written as:\n",
    "\\begin{align}\n",
    "M_{11}=M_{22}\n",
    "&=\\cos\\left(\\sqrt{k_x}s + \\Delta\\phi\\right)\\nonumber\\\\\n",
    "&\\approx\\cos\\left(\\sqrt{k_x}\\rho\\theta +L\\sqrt{k_x}/2\\right)\n",
    "\\end{align}\n",
    "\n",
    "where $\\Delta \\phi=\\arcsin(L\\sqrt{k_x}/2)$.  Here we ignore any terms beyond $L^2 k(x)$.  And we know that $L^2 k(x) \\le L^2/\\rho^2$\n",
    "\n",
    "Therefore for one turn, which has $N$ such segments, the phase advance is :\n",
    "\\begin{align}\n",
    "\\phi(L)&=N\\left(\\sqrt{k_x}\\rho \\frac{2\\pi}{N} +L\\sqrt{k_x}/2\\right)\\nonumber\\\\\n",
    "&\\approx 2\\pi\\rho\\sqrt{k_x}\\left(1+\\frac{NL}{4\\pi\\rho}\\right)\\nonumber\\\\\n",
    "&=\\phi(L=0)\\left(1+\\frac{NL}{4\\pi\\rho}\\right)\n",
    "\\end{align}\n"
   ]
  },
  {
   "cell_type": "markdown",
   "metadata": {},
   "source": [
    "And the scaling factor for change the $(x,x')$ to $(x,P_x)$ also  changes by an extra factor $\\left(1+\\frac{NL}{4\\pi\\rho}\\right)$.\n"
   ]
  },
  {
   "cell_type": "markdown",
   "metadata": {},
   "source": [
    "The weak-focusing scheme has large limitation since the bending gradient has to be continuous.  Later on the theory of strong focusing enables smaller beam size."
   ]
  },
  {
   "cell_type": "code",
   "execution_count": null,
   "metadata": {},
   "outputs": [],
   "source": []
  }
 ],
 "metadata": {
  "kernelspec": {
   "display_name": "Python 3 (ipykernel)",
   "language": "python",
   "name": "python3"
  },
  "language_info": {
   "codemirror_mode": {
    "name": "ipython",
    "version": 3
   },
   "file_extension": ".py",
   "mimetype": "text/x-python",
   "name": "python",
   "nbconvert_exporter": "python",
   "pygments_lexer": "ipython3",
   "version": "3.7.16"
  },
  "latex_envs": {
   "LaTeX_envs_menu_present": true,
   "autoclose": true,
   "autocomplete": true,
   "bibliofile": "biblio.bib",
   "cite_by": "apalike",
   "current_citInitial": 1,
   "eqLabelWithNumbers": true,
   "eqNumInitial": 1,
   "hotkeys": {
    "equation": "Ctrl-E",
    "itemize": "Ctrl-I"
   },
   "labels_anchors": false,
   "latex_user_defs": false,
   "report_style_numbering": true,
   "user_envs_cfg": false
  },
  "toc": {
   "base_numbering": 1,
   "nav_menu": {},
   "number_sections": true,
   "sideBar": true,
   "skip_h1_title": false,
   "title_cell": "Table of Contents",
   "title_sidebar": "Contents",
   "toc_cell": false,
   "toc_position": {
    "height": "413px",
    "left": "0px",
    "right": "904.8px",
    "top": "112px",
    "width": "247px"
   },
   "toc_section_display": "block",
   "toc_window_display": true
  }
 },
 "nbformat": 4,
 "nbformat_minor": 2
}
