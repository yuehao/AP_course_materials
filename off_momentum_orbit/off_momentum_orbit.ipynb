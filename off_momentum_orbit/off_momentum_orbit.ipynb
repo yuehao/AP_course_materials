{
 "cells": [
  {
   "cell_type": "markdown",
   "metadata": {},
   "source": [
    "# Off Momentum Orbit"
   ]
  },
  {
   "cell_type": "markdown",
   "metadata": {},
   "source": [
    "So far, we discussed the transverse dynamics for the particles with reference energy, or \n",
    "$$\\delta = \\frac{\\Delta p}{p_0}=0$$\n",
    "\n",
    "In this section, we will explore the transverse orbit properties for those particles with small momentum deviation $\\delta$"
   ]
  },
  {
   "cell_type": "markdown",
   "metadata": {},
   "source": [
    "## Revisit the Hamiltonian"
   ]
  },
  {
   "cell_type": "markdown",
   "metadata": {},
   "source": [
    "Let us recall the exact Hamiltonian has the form:\n",
    "$$K\\left(x, p_x, y, p_y, z, \\delta,s\\right)=-\\left(1+\\frac{x}{\\rho}\\right)\\sqrt{(1+\\delta)^2-p_x^2-p_y^2} \n",
    "-e\\frac{A_s}{p_0}\\left(1+\\frac{x}{\\rho}\\right)\n",
    "$$\n",
    "\n",
    "With the paraxial approximation: \n",
    "\\begin{equation}\n",
    "K\\left(x, p_x, y, p_y, z, \\delta,s\\right)=\n",
    "-\\left(1+\\frac{x}{\\rho}\\right)\\left(1+\\delta-\\frac{p_x^2}{2(1+\\delta)}-\\frac{p_y^2}{2(1+\\delta)}\\right)\n",
    "-e\\frac{A_s}{p_0}\\left(1+\\frac{x}{\\rho}\\right)\n",
    "\\end{equation}"
   ]
  },
  {
   "cell_type": "markdown",
   "metadata": {},
   "source": [
    "Keeping only up to the linear term of $delta$ and $x/\\rho$, and using $$A_{s,d}\\approx-B_0\\left(x - \\frac{x^2}{2\\rho}\\right)$$, $$A_{s,q}=-B_0 b_1(s) \\left(x^2-y^2\\right)/2=-G(s)\\left(x^2-y^2\\right)/2$$, we get: \n",
    "\\begin{align}\n",
    "K\\left(x, p_x, y, p_y, z, \\delta,s\\right)&=\n",
    "-\\left(1+\\frac{x}{\\rho}\\right)\\left(1+\\delta-\\frac{p_x^2}{2(1+\\delta)}-\\frac{p_y^2}{2(1+\\delta)}\\right)\n",
    "-e\\frac{A_s}{p_0}\\left(1+\\frac{x}{\\rho}\\right)\\\\\n",
    "&\\approx -1-\\delta-\\delta\\frac{x}{\\rho}+\\frac{p_x^2}{2}+\\frac{p_y^2}{2}+\\frac{x^2}{2\\rho^2}+k(s)\\left(x^2-y^2\\right)/2\n",
    "\\end{align}\n",
    "\n",
    "Here we assume $z$ and $\\delta$ are parameter, therefore constants.  The motion of $x$ any $y$ directions are still decoupled, and the Hamiltonian for the x direction is :\n",
    "$$\n",
    "K\\left(x, p_x\\right)=\\frac{p_x^2}{2}+\\frac{x^2}{2\\rho^2}+\\frac{k(s)x^2}{2}-\\delta\\frac{x}{\\rho}\n",
    "$$"
   ]
  },
  {
   "cell_type": "markdown",
   "metadata": {},
   "source": [
    "## Dispertion Function"
   ]
  },
  {
   "cell_type": "markdown",
   "metadata": {},
   "source": [
    "The equation of motion then becomes a non-homogeneous one :\n",
    "\\begin{equation}\n",
    "x''+\\left(\\frac{1}{\\rho^2}+k(s)\\right)x=\\frac{\\delta}{\\rho} \n",
    "\\end{equation}\n",
    "\n",
    "<img src=\"dispersive_orbit_in_dipole.png\" alt=\"Drawing\" style=\"width: 200px;\"/>\n",
    "Clearly, the off-momentum orbit raises from the momentum deviation in the bending elements.\n",
    "If we write the solution as:\n",
    "$$\n",
    "x(s)=x_\\beta(s)+D(s)\\delta + \\mathcal{O}\\left(\\delta^2\\right)\n",
    "$$\n",
    "\n",
    "where $x_\\beta(s)$ satisfies the homogeneous Hill's equation:\n",
    "\\begin{equation}\n",
    "x''+\\left(\\frac{1}{\\rho^2}+k(s)\\right)x=0\n",
    "\\end{equation}\n",
    "\n",
    "The coefficient $D(s)=\\frac{\\partial x(s)}{\\partial \\delta}|_{\\delta=0}$ is the linear dispersion function, which is also depend on the design lattice.  It is the solution of the inhomogeneous ODE:\n",
    "\\begin{equation}\n",
    "D''+\\left(\\frac{1}{\\rho^2}+k(s)\\right)D=\\frac{1}{\\rho}\n",
    "\\end{equation}"
   ]
  },
  {
   "cell_type": "markdown",
   "metadata": {},
   "source": [
    "The solution of the dispersion function is the sum of the general solution of the homoneneous ODE and the special solution:\n",
    "\\begin{equation}\n",
    "\\left(\\begin{array}{c}\n",
    "D\\\\\n",
    "D'\n",
    "\\end{array}\\right)_{s=s_{0}+s}=M\\left(s_{0}+s,s_{0}\\right)\\left(\\begin{array}{c}\n",
    "D\\\\\n",
    "D'\n",
    "\\end{array}\\right)_{s=s_{0}}+\\left(\\begin{array}{c}\n",
    "d\\\\\n",
    "d'\n",
    "\\end{array}\\right)\n",
    "\\end{equation}"
   ]
  },
  {
   "cell_type": "markdown",
   "metadata": {},
   "source": [
    "For constant dipole with fixed gradient, let's write $K=k+1/\\rho^2$, the transver matrix $M$ has been calculated before:\n",
    "\\begin{equation}\n",
    "M\\left(s_0+s,s_0\\right)=\n",
    "\\begin{cases}\n",
    "\\left(\\begin{array}{cc}\n",
    "\\cos\\left(\\sqrt{K}s\\right) & \\sin\\left(\\sqrt{K}s\\right)/\\sqrt{K}\\\\\n",
    "-\\sqrt{K}\\sin\\left(\\sqrt{K}s\\right) & \\cos\\left(\\sqrt{K}s\\right)\n",
    "\\end{array}\\right)&K>0,\\\\\n",
    "\\\\\n",
    "\\left(\\begin{array}{cc}\n",
    "\\cosh\\left(\\sqrt{K}s\\right) & \\sinh\\left(\\sqrt{K}s\\right)/\\sqrt{K}\\\\\n",
    "\\sqrt{K}\\sinh\\left(\\sqrt{K}s\\right) & \\cosh\\left(\\sqrt{K}s\\right)\n",
    "\\end{array}\\right)&K<0\\\\\n",
    "\\end{cases}\n",
    "\\end{equation}\n",
    "\n",
    "The spectial solution in this case, should satisfy $d(s=s_0)=d'(s=s_0)=0$, one can easily prove that the following expression satisfy the inhomogeous equation:\n",
    "\\begin{equation}\n",
    "d(s)=\n",
    "\\begin{cases}\n",
    "\\frac{1}{\\rho K}\\left(\n",
    "1-\\cos \\left(\\sqrt{K}s\\right)\n",
    "\\right)&K>0,\\\\\n",
    "\\frac{1}{\\rho K}\\left(\n",
    "1-\\cosh \\left(\\sqrt{-K}s\\right)\n",
    "\\right)&K<0\n",
    "\\end{cases}\n",
    "\\end{equation}\n",
    "\n",
    "and \n",
    "\n",
    "\\begin{equation}\n",
    "d'(s)=\n",
    "\\begin{cases}\n",
    "\\frac{1}{\\rho \\sqrt{K}}\n",
    "\\sin \\left(\\sqrt{K} s \\right) &K>0,\\\\\n",
    "\\frac{1}{\\rho \\sqrt{-K}}\n",
    "\\sinh \\left(\\sqrt{-K}s \\right)&K<0\n",
    "\\end{cases}\n",
    "\\end{equation}"
   ]
  },
  {
   "cell_type": "markdown",
   "metadata": {},
   "source": [
    "For pure dipole $K=1/\\rho^2$, the special solution simply becomes:\n",
    "\\begin{align}\n",
    "d(s)&= \\rho \\left(1-\\cos\\theta\\right) \\approx\\rho\\theta^2\\\\\n",
    "d'(s)&= \\sin\\theta \\approx\\theta\n",
    "\\end{align}\n",
    "Here $\\theta=s/\\rho$ is the bending angle.  The approximation is taken when the bending angle for the dipole is small."
   ]
  },
  {
   "cell_type": "markdown",
   "metadata": {},
   "source": [
    "We can rewrite the matrix form in to a 3 by 3 matrix $\\mathcal{M}$ and 3- vector form:\n",
    "\\begin{equation}\n",
    "\\left(\\begin{array}{c}\n",
    "D\\\\\n",
    "D'\\\\\n",
    "1\n",
    "\\end{array}\\right)_{s=s_{0}+s}=\\left(\\begin{array}{cc}\n",
    "{M}\\left(s_{0}+s,s_{0}\\right) & \\bar{d}=\\left(\\begin{array}{c}\n",
    "d\\\\\n",
    "d'\n",
    "\\end{array}\\right)\\\\\n",
    "0 & 1\n",
    "\\end{array}\\right)\\left(\\begin{array}{c}\n",
    "D\\\\\n",
    "D'\\\\\n",
    "1\n",
    "\\end{array}\\right)_{s=s_{0}}\n",
    "\\end{equation}\n",
    "\n",
    "For pure dipole, we have the form: \n",
    "\\begin{align}\n",
    "\\mathcal{M}_{dipole}&=\n",
    "\\left(\\begin{array}{ccc}\n",
    "\\cos(\\theta) & \\rho\\sin(\\theta) & \\rho\\left(1-\\cos\\theta\\right)\\\\\n",
    "-\\sin(\\theta)/\\rho & \\cos(\\theta) & \\sin\\theta\\\\\n",
    "0 & 0 & 1\n",
    "\\end{array}\\right)\\\\\n",
    "&\\approx\n",
    "\\left(\\begin{array}{ccc}\n",
    "1 & l & l\\theta/2\\\\\n",
    "0 & 1 & \\theta\\\\\n",
    "0 & 0 & 1\n",
    "\\end{array}\\right)\\\\\n",
    "\\end{align}\n",
    "\n",
    "Here, the approximation is again assuming short dipole and $l=\\rho\\theta$ is the length of the dipole."
   ]
  },
  {
   "cell_type": "markdown",
   "metadata": {},
   "source": [
    "## Disperion with Periodic Condition"
   ]
  },
  {
   "cell_type": "markdown",
   "metadata": {},
   "source": [
    "For a periodic lattice with length L, we must have the dispersion function satisfy\n",
    "$$\n",
    "D\\left(s_0\\right)=D\\left(s_0+L\\right)\n",
    "\\;;\\;\n",
    "D'\\left(s_0\\right)=D'\\left(s_0+L\\right)\n",
    "$$\n",
    "\n",
    "And the expanded $3\\times3$ oneturn matrix has:\n",
    "\\begin{equation}\n",
    "\\left(\\begin{array}{c}\n",
    "D\\\\\n",
    "D'\\\\\n",
    "1\n",
    "\\end{array}\\right)_{s=s_0}=\\left(\\begin{array}{cc}\n",
    "M\\left(s_{0}\\right) & \\left(\\begin{array}{c}\n",
    "M_{13}\\\\\n",
    "M_{23}\n",
    "\\end{array}\\right)\\\\\n",
    "0 & 1\n",
    "\\end{array}\\right)\\left(\\begin{array}{c}\n",
    "D\\\\\n",
    "D'\\\\\n",
    "1\n",
    "\\end{array}\\right)_{s=s_{0}}\n",
    "\\end{equation}\n",
    "Here the matrix $M\\left(s_0\\right)$ is the oneturn betatron matrix:\n",
    "\\begin{align}\n",
    "M\\left(s_0\\right)&=\n",
    "\\left(\\begin{array}{cc}\n",
    "M_{11} & M_{12}\\\\\n",
    "M_{21} & M_{22}\n",
    "\\end{array}\\right)\\\\\n",
    "&=\\left(\\begin{array}{cc}\n",
    "\\cos\\Phi+\\alpha\\sin\\Phi & \\beta\\sin\\Phi\\\\\n",
    "-\\gamma\\sin\\Phi & \\cos\\Phi-\\alpha\\sin\\Phi\n",
    "\\end{array}\\right)\n",
    "\\end{align}"
   ]
  },
  {
   "cell_type": "markdown",
   "metadata": {},
   "source": [
    "The elements $M_{13}$ and $M_{23}$ are related to the dispersion function by:\n",
    "\\begin{equation}\n",
    "\\left(\\begin{array}{c}\n",
    "M_{13}\\\\\n",
    "M_{23}\n",
    "\\end{array}\\right)=\\left(I-\\left(\\begin{array}{cc}\n",
    "M_{11} & M_{12}\\\\\n",
    "M_{21} & M_{22}\n",
    "\\end{array}\\right)\\right)\\left(\\begin{array}{c}\n",
    "D\\\\\n",
    "D'\n",
    "\\end{array}\\right)\\label{eq:matrix_from_dispersion}\n",
    "\\end{equation}\n",
    "\n",
    "\n",
    "The matrix $I-M\\left(s_0\\right)$ has determinant $2-M_{11}-M_{22}$ Recall that the stable condition of the periodic transfer matrix: $\\left|Tr(M\\left(s_0\\right))\\right|<2$, the determinant of $I-M\\left(s_0\\right)$ is always positive.  Therefore we can reverse the Eq.$\\ref{eq:matrix_from_dispersion}$ and calculate the dispersion function from the expanded one-turn matrix:\n",
    "\\begin{align}\n",
    "\\left(\\begin{array}{c}\n",
    "D\\\\\n",
    "D'\n",
    "\\end{array}\\right)\n",
    "&=\\left(I-M\\right)^{-1}\\left(\\begin{array}{c}\n",
    "M_{13}\\\\\n",
    "M_{23}\n",
    "\\end{array}\\right)\\\\\n",
    "&=\\frac{1}{2-M_{11}-M_{22}}\\left(\\begin{array}{cc}\n",
    "1-M_{22} & M_{12}\\\\\n",
    "M_{21} & 1-M_{11}\n",
    "\\end{array}\\right)\\left(\\begin{array}{c}\n",
    "M_{13}\\\\\n",
    "M_{23}\n",
    "\\end{array}\\right)\\label{eq:dispersion_from_matrix}\n",
    "\\end{align}"
   ]
  },
  {
   "cell_type": "markdown",
   "metadata": {},
   "source": [
    "## $\\mathcal{H}$ function"
   ]
  },
  {
   "cell_type": "markdown",
   "metadata": {},
   "source": [
    "Since the dispersion function follows the inhomogeneous Hill's function, we can follow the action-angle treatment of the particle motion and define the normalized dispersion as:\n",
    "\\begin{align}\n",
    "X_d&=\\frac{D}{\\sqrt{\\beta}}\\\\\n",
    "P_d&=\\frac{\\beta D'+\\alpha D }{\\sqrt{\\beta}}\n",
    "\\end{align}\n",
    "           \n",
    "We define $\\mathcal{H}$ function as\n",
    "\\begin{align}\n",
    "\\mathcal{H}&\\equiv X_d^2+P_d^2\\\\\n",
    "&=\\beta D'^2+2\\alpha D D' + \\gamma D^2\n",
    "\\end{align}\n",
    "\n",
    "At the region outside dipole, $1/\\rho=0$, the $\\mathcal{H}$ function is constant.  However, the bending field will change the value of the $\\mathcal{H}$ function.           "
   ]
  },
  {
   "cell_type": "markdown",
   "metadata": {},
   "source": [
    "## Dispersion measurement"
   ]
  },
  {
   "cell_type": "markdown",
   "metadata": {},
   "source": [
    "The measurement of the dispersion in accelerator follows it definition:\n",
    "\\begin{equation}\n",
    "D=\\frac{\\partial x}{\\partial \\delta}\n",
    "\\end{equation}\n",
    "\n",
    "In a linac, this is straight forward to realize in real machine.  One can easily change the energy of the beam by tweaking the accelerating cavity, then the dispersion is calculated from the beam centroid change at each Beam position monitor:\n",
    "\\begin{equation}\n",
    "D=\\frac{\\Delta x}{\\Delta p/p_0}\n",
    "\\end{equation}\n",
    "\n",
    "The measurement in a ring will be not as trivial, since the change of the accelerating voltage will not affect the energy of the particle linearly.  The dispersion measurement in a ring will be  introduce in the later part of this note."
   ]
  },
  {
   "cell_type": "markdown",
   "metadata": {},
   "source": [
    "## Integration Representation"
   ]
  },
  {
   "cell_type": "markdown",
   "metadata": {},
   "source": [
    "From the similarity of the Hill's equation with dipole error and the dispersion equation:\n",
    "\\begin{equation}\n",
    "D''+\\left(\\frac{1}{\\rho^2}+k(s)\\right)D=\\frac{1}{\\rho}\n",
    "\\end{equation}\n",
    "and\n",
    "\\begin{equation}\n",
    "x''\\left(s\\right)+\\left(\\frac{1}{\\rho^2}+k(s)\\right)x\\left(s\\right)=\\frac{\\Delta B(s)}{B_0\\rho} \n",
    "\\end{equation}\n",
    "\n",
    "The integrated form of dispersion function can be achieved from the closed orbit integrals by substituting $\\frac{\\Delta B(s)}{B_0\\rho} $ with $\\frac{1}{\\rho}$.\n",
    "\\begin{align}\n",
    "D(s)&=\\int_{s}^{s+C}\\frac{1}{\\rho(s_0)}G\\left(s,s_{0}\\right) ds_0 \\nonumber\\\\\n",
    "&=\\frac{\\sqrt{\\beta\\left(s\\right)}}{{2\\sin\\pi\\nu}}\n",
    "\\int_{s}^{s+C}\\frac{\\sqrt{\\beta\\left(s_{0}\\right)}}{\\rho(s_0)}\\cos\\left(\\psi\\left(s\\right)-\\psi\\left(s_{0}\\right)-\\pi\\nu\\right)ds_0\n",
    "\\end{align}"
   ]
  },
  {
   "cell_type": "markdown",
   "metadata": {},
   "source": [
    "# Dispersion Matching and Suppression"
   ]
  },
  {
   "cell_type": "markdown",
   "metadata": {},
   "source": [
    "## Achromatic Condition"
   ]
  },
  {
   "cell_type": "markdown",
   "metadata": {},
   "source": [
    "For a lattice cell represented by $\\mathcal{M}$, the acromatic condition guarantees that the if the zero dispersion is given at the entrance, zero dispersion is achieved at the exit.  \n",
    "\\begin{equation}\n",
    "\\left(\\begin{array}{c}\n",
    "0\\\\\n",
    "0\\\\\n",
    "1\n",
    "\\end{array}\\right)=\\left(\\begin{array}{cc}\n",
    "{M}\\left(s_{0}+s,s_{0}\\right) & \\bar{d}=\\left(\\begin{array}{c}\n",
    "M_{13}\\\\\n",
    "M_{23}\n",
    "\\end{array}\\right)\\\\\n",
    "0 & 1\n",
    "\\end{array}\\right)\\left(\\begin{array}{c}\n",
    "0\\\\\n",
    "0\\\\\n",
    "1\n",
    "\\end{array}\\right)\n",
    "\\end{equation}\n",
    "\n",
    "Therefore the acromatic condition requires:\n",
    "\\begin{equation}\n",
    "\\bar{d}=\\left(\\begin{array}{c}\n",
    "M_{13}\\\\\n",
    "M_{23}\n",
    "\\end{array}\\right)\n",
    "=\\left(\\begin{array}{c}\n",
    "0\\\\\n",
    "0\n",
    "\\end{array}\\right)\n",
    "\\end{equation}"
   ]
  },
  {
   "cell_type": "markdown",
   "metadata": {},
   "source": [
    "## Dispersion Matching"
   ]
  },
  {
   "cell_type": "markdown",
   "metadata": {},
   "source": [
    "### Repeating cells"
   ]
  },
  {
   "cell_type": "markdown",
   "metadata": {},
   "source": [
    "\n",
    "If we repeat a non-achromatic cell for N times, the $3\\times 3$ matrix becomes:\n",
    "\\begin{align}\n",
    "\\mathcal{M}^N&=\\left(\\begin{array}{cc}\n",
    "{M} & \\bar{d}\\\\\n",
    "0 & 1\n",
    "\\end{array}\\right)^N\\\\\n",
    "&=\\left(\\begin{array}{cc}\n",
    "{M}^N & \\left(M^{N-1}+M^{N-2}+\\cdots+1\\right)\\bar{d}\\\\\n",
    "0 & 1\n",
    "\\end{array}\\right)\\\\\n",
    "&=\\left(\\begin{array}{cc}\n",
    "{M}^N & \\left(I-M^{N} \\right)\\left(I-M \\right)^{-1}\\bar{d}\\\\\n",
    "0 & 1\n",
    "\\end{array}\\right)\\\\\n",
    "&=\\left(\\begin{array}{cc}\n",
    "{M}^N & \\left(I-M^{N} \\right)\\left(\\begin{array}{c}\n",
    "D\\\\\n",
    "D'\n",
    "\\end{array}\\right)\\\\\n",
    "0 & 1\n",
    "\\end{array}\\right)\n",
    "\\end{align}\n",
    "\n",
    "Therefore, to achieve a achromatic condition by repeating a non-achromatic cell $N$ times, it is required to have $$M^N=I$$\n",
    "\n",
    "The betatron transfer matrix $M$ can be expressed by the twiss parameter:\n",
    "\\begin{equation}\n",
    "M=\\left(\\begin{array}{cc}\n",
    "\\cos\\Phi+\\alpha\\sin\\Phi & \\beta\\sin\\Phi\\\\\n",
    "-\\gamma\\sin\\Phi & \\cos\\Phi-\\alpha\\sin\\Phi\n",
    "\\end{array}\\right)\n",
    "\\end{equation}\n",
    "Therefore the requirement becomes:\n",
    "\\begin{equation}\n",
    "N\\Phi=2n\\pi \\;,\\; n\\in \\text{Integer}\n",
    "\\end{equation}\n"
   ]
  },
  {
   "cell_type": "markdown",
   "metadata": {},
   "source": [
    "### Dispersion suppression"
   ]
  },
  {
   "cell_type": "markdown",
   "metadata": {},
   "source": [
    "For a non-achromatic lattice in a periodical structure, we have \n",
    "\\begin{equation}\n",
    "\\left(\\begin{array}{c}\n",
    "D\\\\\n",
    "D'\\\\\n",
    "1\n",
    "\\end{array}\\right)=\\mathcal{M}\\left(\\begin{array}{c}\n",
    "D\\\\\n",
    "D'\\\\\n",
    "1\n",
    "\\end{array}\\right)=\n",
    "\\left(\\begin{array}{cc}\n",
    "M & \\left(\\begin{array}{c}\n",
    "M_{13}\\\\\n",
    "M_{23}\n",
    "\\end{array}\\right)\\\\\n",
    "0 & 1\n",
    "\\end{array}\\right)\\left(\\begin{array}{c}\n",
    "D\\\\\n",
    "D'\\\\\n",
    "1\n",
    "\\end{array}\\right)\n",
    "\\end{equation}\n",
    "\n",
    "A dispersion suppression section, represented by matrix $\\tilde{\\mathcal{M}}^{-1}$ can match a non-zero dispersion $(D,D')$ at the end of a curved lattice to zero dispersion, which reads\n",
    "\\begin{equation}\n",
    "\\left(\\begin{array}{c}\n",
    "D\\\\\n",
    "D'\\\\\n",
    "1\n",
    "\\end{array}\\right) = \n",
    "\\tilde{\\mathcal{M}}\n",
    "\\left(\\begin{array}{c}\n",
    "0\\\\\n",
    "0\\\\\n",
    "1\n",
    "\\end{array}\\right) =\n",
    "\\left(\\begin{array}{cc}\n",
    "\\tilde{M} & \\left(\\begin{array}{c}\n",
    "\\tilde{M}_{13}\\\\\n",
    "\\tilde{M}_{23}\n",
    "\\end{array}\\right)\\\\\n",
    "0 & 1\n",
    "\\end{array}\\right)\\left(\\begin{array}{c}\n",
    "0\\\\\n",
    "0\\\\\n",
    "1\n",
    "\\end{array}\\right)\n",
    "\\end{equation}\n",
    "\n",
    "Then the required terms in the suppressor is simply:\n",
    "\\begin{equation}\n",
    "\\left(\\begin{array}{c}\n",
    "\\tilde{M}_{13}\\\\\n",
    "\\tilde{M}_{23}\n",
    "\\end{array}\\right) = \n",
    "\\left(\\begin{array}{c}\n",
    "D\\\\\n",
    "D'\n",
    "\\end{array}\\right) =\n",
    "\\left(I-M\\right)^{-1}\\left(\\begin{array}{c}\n",
    "M_{13}\\\\\n",
    "M_{23}\n",
    "\\end{array}\\right)\n",
    "\\end{equation}\n",
    "\n",
    "We can use optimization methods to achieve such condition using any accelerator design software."
   ]
  },
  {
   "cell_type": "markdown",
   "metadata": {},
   "source": [
    "### 'Reduced-bending-field' suppressor"
   ]
  },
  {
   "cell_type": "markdown",
   "metadata": {},
   "source": [
    "Generally, dispersion matching will change the optical functions as well.  However, there are some special elegant case, which suppresses the dispersion while maintaining the optics. Suppose we have a lattice cell described by the transfer matrix $M$. It is non-achromatic and have:\n",
    "\\begin{equation}\n",
    "\\left(\\begin{array}{c}\n",
    "D\\\\\n",
    "D'\\\\\n",
    "1\n",
    "\\end{array}\\right)=\\mathcal{M}\\left(\\begin{array}{c}\n",
    "D\\\\\n",
    "D'\\\\\n",
    "1\n",
    "\\end{array}\\right)=\n",
    "\\left(\\begin{array}{cc}\n",
    "M & \\left(\\begin{array}{c}\n",
    "M_{13}\\\\\n",
    "M_{23}\n",
    "\\end{array}\\right)\\\\\n",
    "0 & 1\n",
    "\\end{array}\\right)\\left(\\begin{array}{c}\n",
    "D\\\\\n",
    "D'\\\\\n",
    "1\n",
    "\\end{array}\\right)\n",
    "\\end{equation}\n",
    "and it satisfy $M^{2N}=I$.  Therefore half of the $2N$ cell satisfy $M^N=-I$.  "
   ]
  },
  {
   "cell_type": "markdown",
   "metadata": {},
   "source": [
    "The $3\\times 3$ matrix of the $N$ repeating cells is:\n",
    "\\begin{align}\n",
    "\\mathcal{M}^N\n",
    "&=\\left(\\begin{array}{cc}\n",
    "M^N & \\left(I-M^{N} \\right)\\left(I-M \\right)^{-1}\\left(\\begin{array}{c}\n",
    "M_{13}\\\\\n",
    "M_{23}\n",
    "\\end{array}\\right)\\\\\n",
    "0 & 1\n",
    "\\end{array}\\right)\\\\\n",
    "&=\\left(\\begin{array}{cc}\n",
    "-I& 2\\left(\\begin{array}{c}\n",
    "D\\\\\n",
    "D'\n",
    "\\end{array}\\right)\\\\\n",
    "0 & 1\n",
    "\\end{array}\\right)\n",
    "\\end{align}\n",
    "\n",
    "We know that the dispersion term is proportional to its bending angle, however, in small angle approximation, the betatron transverse matrix does not depend on the bending angle. \n",
    "\n",
    "Therefore it is now easy to come up a scheme to suppress the dispersion from a non-achromatic cell to zero dispersion.\n",
    "* Make the cell N times so that the transfer matrix for the N cells is $-I$\n",
    "* Reduce all dipole bending angle to its half value.\n",
    "\n",
    "Then after some small modification, we can get a lattice that suppress the dispersion yet keep the original optics function.\n"
   ]
  },
  {
   "cell_type": "markdown",
   "metadata": {},
   "source": [
    "# Momentum Compaction Factor"
   ]
  },
  {
   "cell_type": "markdown",
   "metadata": {},
   "source": [
    "In a ring or an arc, it is important to knew the pass length of the particle.  The ideal particle must have the desire trajectory length to synchronize with the RF cavity for acceleration. We also need to calculate the pass length difference for an off-momentum particle.  \n",
    "\n",
    "Generally, we can calculate the circumference as:\n",
    "\n",
    "\\begin{align}\n",
    "C&=\\oint\\left|\\frac{d\\mathbf{r}(s)}{ds}\\right|ds\\nonumber\\\\\n",
    "&=\\oint\\left|\\frac{d\\left(\\mathbf{r_{0}}(s)+x\\hat{x}+y\\hat{y}\\right)}{ds}\\right|ds\\nonumber\\\\\n",
    "&=\\oint\\left|(1+x/\\rho)\\hat{s}+x'\\hat{x}+y'\\hat{y}\\right|ds\\nonumber\\\\\n",
    "&=\\oint\\sqrt{\\left(1+x/\\rho\\right)^{2}+x'^{2}+y'^{2}}ds\n",
    "\\end{align}\n",
    "\n",
    "If we keep only the linear term, then plug in the off-momentum term, we have \n",
    "\\begin{align}\n",
    "C&=\\oint\\left(1+\\frac{x}{\\rho}\\right) ds \\nonumber\\\\\n",
    "&=C_0+\\oint\\left(\\frac{x_\\beta+D\\delta}{\\rho}\\right) ds \\nonumber\\\\\n",
    "&=C_\\beta+\\left(\\oint\\frac{D}{\\rho} ds \\right)\\delta\n",
    "\\end{align}\n",
    "\n",
    "This indicates that the extra circumference of the off-momentum is proportional to the momentum deviation. We define the **Momentum Compaction Factor** as: \n",
    "\\begin{equation}\n",
    "\\alpha_c=\\frac{1}{C_0}\\frac{dC}{d\\delta}=\\frac{1}{C_0}\\oint\\frac{D}{\\rho}ds\n",
    "\\end{equation}\n",
    "\n",
    "Since the dispersion function is usually positive, the momentum compaction factor is also positive.  This means the higher energy particles usually travels longer.  However there are special lattice which is designed to have zero or even negative compaction factor.\n",
    "\n",
    "We can also calculate the travel time $t=C/v$ difference of the off-momentum particles:\n",
    "\\begin{align}\n",
    "\\frac{\\Delta T}{T}&=\\frac{\\Delta C}{C}-\\frac{\\Delta v}{v}\\\\\n",
    "&=\\alpha_c \\delta-\\frac{1}{\\gamma^2}\\delta\\\\\n",
    "&\\equiv\\eta \\delta\n",
    "\\end{align}\n",
    "\n",
    "The new quantity $\\eta=dT/d\\delta$ is named **phase-slip factor**, which is very useful in the latter longitudinal dynamics.  In suggests that, for a positive momentum compaction factor $\\alpha_c$, viz. that higher energy particles travels longer, may spend less time if the reference energy is low enough.  At specific energy, a small momentum deviation does not change the time-of-flight, which is called **isochronous**.  This energy is called **transition energy** $\\gamma_T$:\n",
    "\\begin{equation}\n",
    "\\gamma_T\\equiv\\frac{1}{\\sqrt{\\alpha_c}}\n",
    "\\end{equation}\n",
    "\n",
    "\n",
    "\n"
   ]
  },
  {
   "cell_type": "markdown",
   "metadata": {},
   "source": [
    "## Dispersion Measurement in Ring"
   ]
  },
  {
   "cell_type": "markdown",
   "metadata": {},
   "source": [
    "In a ring, changing the RF cavity produce more complicate behavior than in a linac.  We will introduce that in the longitudinal dynamics section.  However, the change of the beam energy is linked with the time-of-flight and the revolution frequency by phase-slip factor. \n",
    "\n",
    "\\begin{equation}\n",
    "\\frac{\\Delta f}{f_0}=-\\frac{\\Delta T}{T_0}=-\\eta \\delta\n",
    "\\end{equation}\n",
    "\n",
    "Therefore, the dispersion can be found from the slope of the closed orbit as function of the revolution frequency:\n",
    "\n",
    "\n",
    "\\begin{equation}\n",
    "D=\\frac{\\Delta x_{co}}{\\delta}=-\\eta f_0\\frac{\\Delta x_{co}}{\\Delta f} \n",
    "\\end{equation}\n",
    "\n",
    "The following example (from \"Accelerator Physics\" by Prof. S.Y.Lee) shows the measurement data of IUCF cooler ring.  The top figure is the closed orbit as function of the revolution frequency at one BPM.  The bottom figure is the dispersion function at BPMs using the slope of the top figure of each BPM.\n",
    "![Dispersion measurement in ring](dispersion_measurement.png)"
   ]
  },
  {
   "cell_type": "markdown",
   "metadata": {},
   "source": [
    "## Transition Energy Crossing"
   ]
  },
  {
   "cell_type": "markdown",
   "metadata": {},
   "source": [
    "In a medium energy synchrotron, there are many harmful beam dynamics problems when crossing the transition energy ($\\gamma=\\gamma_T$),viz the machine becomes isochronous.  In this section, we briefly introduce the scheme to avoid the harmful effect."
   ]
  },
  {
   "cell_type": "markdown",
   "metadata": {},
   "source": [
    "### $\\gamma_T$ jump"
   ]
  },
  {
   "cell_type": "markdown",
   "metadata": {},
   "source": [
    "One idea of avoiding the harmful effect of crossing transition energy is to cross the transition energy fast, using a set of pulsed power quadrupoles (named $\\gamma_T$ quad). These quads, after turned on, can change the momentum compaction factor quick enough the decrease the $\\gamma_T$ almost 'suddenly'.\n",
    "\n",
    "These quads has to be placed in dispersive area, where the kick to the off-momentum particle by the ith quad is \n",
    "\\begin{equation}\n",
    "\\Delta \\theta_i= K_i \\tilde{D}_i\\delta\n",
    "\\end{equation}\n",
    "\n",
    "The quad will change the dispersion function over the ring and disturb the dispersion at the location from $D_i$ to $\\tilde{D}_i$\n",
    "\n",
    "Then the momentum compaction change will be:\n",
    "\n",
    "\\begin{equation}\n",
    "\\Delta \\alpha_c= \\frac{\\sum_i D_i \\Delta \\theta_i }{C_0\\delta}\n",
    "=\\frac{1}{C_0}\\sum_i K_i \\tilde{D}_i D_i\n",
    "\\end{equation}\n",
    "\n"
   ]
  },
  {
   "cell_type": "markdown",
   "metadata": {},
   "source": [
    "### Flexible momentum compaction (FMC) lattice"
   ]
  },
  {
   "cell_type": "markdown",
   "metadata": {},
   "source": [
    "Another choice is to have zero or even negative momentum compaction factor $\\alpha_c$. From the definition of $\\alpha_c$, we have to design a lattice with negative dispersion at dipoles.  That is turned out to be possible.  One example is shown below, which is a cell for an ERL recently. The dispersion is design to have positive and negative numbers and the integrals in the \n",
    "\n",
    "![FMC lattice](fmc_lattice.png)"
   ]
  },
  {
   "cell_type": "markdown",
   "metadata": {},
   "source": [
    "## 6-D phase space"
   ]
  },
  {
   "cell_type": "markdown",
   "metadata": {},
   "source": [
    "The 3-by-3 matrix $\\mathcal{M}$ describes the horizontal phase space as function of the energy.  That is not a full description.  The symplectic condition requires that if the horizontal phase space is affected by the longitudinal coordinate ($\\delta$), the longitudinal phase space coordinate must be affected by the horizontal coordinates.  \n",
    "\n",
    "Therefore, the full dynamics has to be described by 6-by-6 matrix. \n",
    "\\begin{align}\n",
    "\\left(\\begin{array}{c}\n",
    "x\\\\\n",
    "p_{x}\\\\\n",
    "y\\\\\n",
    "p_{y}\\\\\n",
    "z\\\\\n",
    "\\delta\n",
    "\\end{array}\\right)_{2}=\\left(\\begin{array}{cccccc}\n",
    "R_{11} & R_{12} & R_{13} & R_{14} & R_{15} & R_{16}\\\\\n",
    "R_{21} & R_{22} & R_{23} & R_{24} & R_{25} & R_{26}\\\\\n",
    "R_{31} & R_{32} & R_{33} & R_{34} & R_{35} & R_{36}\\\\\n",
    "R_{41} & R_{42} & R_{43} & R_{44} & R_{45} & R_{46}\\\\\n",
    "R_{51} & R_{52} & R_{53} & R_{54} & R_{55} & R_{56}\\\\\n",
    "R_{61} & R_{62} & R_{63} & R_{64} & R_{65} & R_{66}\n",
    "\\end{array}\\right)\\left(\\begin{array}{c}\n",
    "x\\\\\n",
    "p_{x}\\\\\n",
    "y\\\\\n",
    "p_{y}\\\\\n",
    "z\\\\\n",
    "\\delta\n",
    "\\end{array}\\right)_{1}\n",
    "\\end{align}\n",
    "\n",
    "\n"
   ]
  },
  {
   "cell_type": "markdown",
   "metadata": {},
   "source": [
    "The $R$ matrix represents the linear map for the 6-D phase space.  \n",
    "For lattice that only contains DC magnets and pure accelerating cavities, the arriving time does not affect the transverse phase space.  As a consequence of symplecticity, the energy will not affected by the initial transverse phase phase space.   Therefore:\n",
    "\\begin{align}\n",
    "R_{15}=R_{25}=R_{35}=R_{45}&=0\\\\\n",
    "R_{61}=R_{62}=R_{63}=R_{64}&=0\n",
    "\\end{align}\n",
    "\n"
   ]
  },
  {
   "cell_type": "markdown",
   "metadata": {},
   "source": [
    "When there is no accelerating components, $R_{65}$ is also zero. Also in the special case when there is no transverse coupling, the $R_{51}$ and $R_{52}$ is only related to $R_{16}$ and $R_{26}$ by:\n",
    "\n",
    "\\begin{align}\n",
    "R_{51}=(-R_{26})R_{11}+(R_{16})R_{21}\\\\\n",
    "R_{52}=(-R_{26})R_{12}+(R_{16})R_{22}\\\\\n",
    "\\end{align}\n",
    "or vector form:\n",
    "\\begin{align}\n",
    "\\left(\\begin{array}{cc}\n",
    "R_{51} & R_{52}\\end{array}\\right)=\\left(\\begin{array}{cc}\n",
    "-R_{26} & R_{16}\\end{array}\\right)\\left(\\begin{array}{cc}\n",
    "R_{11} & R_{12}\\\\\n",
    "R_{21} & R_{22}\n",
    "\\end{array}\\right)\n",
    "\\end{align}\n",
    "\n",
    "Similarly we have for vertical direction:\n",
    "\\begin{align}\n",
    "\\left(\\begin{array}{cc}\n",
    "R_{53} & R_{54}\\end{array}\\right)=\\left(\\begin{array}{cc}\n",
    "-R_{36} & R_{46}\\end{array}\\right)\\left(\\begin{array}{cc}\n",
    "R_{33} & R_{34}\\\\\n",
    "R_{43} & R_{44}\n",
    "\\end{array}\\right)\n",
    "\\end{align}\n"
   ]
  },
  {
   "cell_type": "code",
   "execution_count": null,
   "metadata": {},
   "outputs": [],
   "source": []
  },
  {
   "cell_type": "code",
   "execution_count": null,
   "metadata": {},
   "outputs": [],
   "source": []
  }
 ],
 "metadata": {
  "kernelspec": {
   "display_name": "Python 3 (ipykernel)",
   "language": "python",
   "name": "python3"
  },
  "language_info": {
   "codemirror_mode": {
    "name": "ipython",
    "version": 3
   },
   "file_extension": ".py",
   "mimetype": "text/x-python",
   "name": "python",
   "nbconvert_exporter": "python",
   "pygments_lexer": "ipython3",
   "version": "3.7.16"
  },
  "latex_envs": {
   "LaTeX_envs_menu_present": true,
   "autoclose": true,
   "autocomplete": false,
   "bibliofile": "biblio.bib",
   "cite_by": "apalike",
   "current_citInitial": 1,
   "eqLabelWithNumbers": true,
   "eqNumInitial": 1,
   "hotkeys": {
    "equation": "Ctrl-E",
    "itemize": "Ctrl-I"
   },
   "labels_anchors": false,
   "latex_user_defs": false,
   "report_style_numbering": false,
   "user_envs_cfg": false
  },
  "toc": {
   "base_numbering": 1,
   "nav_menu": {},
   "number_sections": false,
   "sideBar": true,
   "skip_h1_title": false,
   "title_cell": "Table of Contents",
   "title_sidebar": "Contents",
   "toc_cell": false,
   "toc_position": {},
   "toc_section_display": "block",
   "toc_window_display": false
  }
 },
 "nbformat": 4,
 "nbformat_minor": 2
}
