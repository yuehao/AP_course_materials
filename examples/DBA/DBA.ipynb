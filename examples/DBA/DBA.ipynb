{
 "cells": [
  {
   "cell_type": "code",
   "execution_count": 1,
   "metadata": {},
   "outputs": [],
   "source": [
    "import matplotlib.pyplot as plt\n",
    "%matplotlib notebook\n",
    "import numpy as np\n",
    "import sympy\n",
    "sympy.init_printing(use_unicode=True)"
   ]
  },
  {
   "cell_type": "markdown",
   "metadata": {},
   "source": [
    "# Double Bend Achromat"
   ]
  },
  {
   "cell_type": "markdown",
   "metadata": {},
   "source": [
    "## Simplest case"
   ]
  },
  {
   "cell_type": "markdown",
   "metadata": {},
   "source": [
    "We consider a simplest cell that satisfy achromatic condition. The minimum required lattice is:\n",
    "\\begin{align}\n",
    "B-O-QF-O-B \\nonumber\n",
    "\\end{align}\n",
    "\n",
    "Let's assume the bending magnet has length $L$ and bending angle $\\theta$.  We use thin length approximation on the focusing quad, which has focal length $f$.  The distance between the bending magnet and quadrupole is $L_1$. From the symmetry of the lattice, we require that zero dispersion outside the cell and the dispersion derivative $d'$ vanishes at the center of the quad. \n",
    "\n"
   ]
  },
  {
   "cell_type": "code",
   "execution_count": 38,
   "metadata": {},
   "outputs": [
    {
     "data": {
      "image/png": "[encoded data removed]",
      "text/latex": [
       "$$\\left[\\begin{matrix}1 & L + L_{1} & \\frac{\\theta}{2} \\left(L + 2 L_{1}\\right)\\\\- \\frac{1}{2 f} & \\frac{1}{2 f} \\left(- L - L_{1} + 2 f\\right) & \\frac{\\theta}{4 f} \\left(- L - 2 L_{1} + 4 f\\right)\\\\0 & 0 & 1\\end{matrix}\\right]$$"
      ],
      "text/plain": [
       "⎡                       \\theta⋅(L + 2⋅L₁)    ⎤\n",
       "⎢ 1      L + L₁         ─────────────────    ⎥\n",
       "⎢                               2            ⎥\n",
       "⎢                                            ⎥\n",
       "⎢-1   -L - L₁ + 2⋅f  \\theta⋅(-L - 2⋅L₁ + 4⋅f)⎥\n",
       "⎢───  ─────────────  ────────────────────────⎥\n",
       "⎢2⋅f       2⋅f                 4⋅f           ⎥\n",
       "⎢                                            ⎥\n",
       "⎣ 0         0                   1            ⎦"
      ]
     },
     "execution_count": 38,
     "metadata": {},
     "output_type": "execute_result"
    }
   ],
   "source": [
    "l,l1,t,f=sympy.symbols(\"L L_1 \\\\theta f\")\n",
    "def matd_q(f):\n",
    "    return sympy.Matrix([[1,0,0],[1/f,1,0],[0,0,1]])\n",
    "def matd_d(d, ang):\n",
    "    return sympy.Matrix([[1,d,d*ang/2],[0,1,ang],[0,0,1]])\n",
    "mat_half_dba=matd_q(-2*f)*matd_d(l1,0)*matd_d(l,t)\n",
    "sympy.simplify(mat_half_dba)"
   ]
  },
  {
   "cell_type": "markdown",
   "metadata": {},
   "source": [
    "Therefore, the required quad focal length for the achromatic condition is \n",
    "\\begin{align}\n",
    "f=\\frac{L+2L_1}{4}\n",
    "\\end{align}\n",
    "\n",
    "And the dispersion function at central point is\n",
    "\\begin{align}\n",
    "D_c=\\frac{\\theta}{2}\\left(L+2L_1\\right)\n",
    "\\end{align}\n",
    "\n",
    "The one quad between dipole can only match dispersion.  In order to match the optics function also, we can add more complicated symmetric lattice between two dipoles. But as seen below, the dispersion function in the dipole will not change, as long as achromatic condition on both side holds."
   ]
  },
  {
   "cell_type": "markdown",
   "metadata": {},
   "source": [
    "## Minimize $\\mathcal{H}$ function in DBA"
   ]
  },
  {
   "cell_type": "markdown",
   "metadata": {},
   "source": [
    "Since one side of the dipole entrance (outward side from the cell) is dispersion free, the dispersion inside the dipole is determined as:\n",
    "\\begin{align}\n",
    "D(s)&=\\frac{1}{2}s\\theta(s)=\\frac{s^2}{2\\rho}\\\\\n",
    "D'(s)&=\\theta(s)=\\frac{s}{\\rho}\n",
    "\\end{align}\n",
    "\n",
    "Therefore, we can only optimized the $\\mathcal{H}$ by varying the twiss parameters in dipole. Assuming the optics at the achromatic side of dipole is $\\beta=\\beta_0$, $\\alpha=\\alpha_0$ and $\\gamma_0=\\left(1+\\alpha_0^2\\right)/\\beta_0$.  Therefore, at location $s$ the twiss parameters read:\n",
    "\\begin{align}\n",
    "\\beta(s)&=\\frac{1}{\\gamma_0}+\\gamma_0\\left(s-\\frac{\\alpha_0}{\\gamma_0}\\right)^2\\\\\n",
    "\\alpha(s)&=\\alpha_0-\\gamma_0 s \\\\\n",
    "\\gamma(s)&=\\gamma_0\n",
    "\\end{align}"
   ]
  },
  {
   "cell_type": "code",
   "execution_count": 37,
   "metadata": {},
   "outputs": [
    {
     "data": {
      "image/png": "[encoded data removed]",
      "text/latex": [
       "$$\\frac{\\sqrt{15}}{60}$$"
      ],
      "text/plain": [
       "√15\n",
       "───\n",
       " 60"
      ]
     },
     "execution_count": 37,
     "metadata": {},
     "output_type": "execute_result"
    }
   ],
   "source": [
    "beta0, tbeta, alpha0= sympy.symbols(\"\\\\beta_0 \\\\tilde\\\\beta \\\\alpha_0\")\n",
    "rho, s= sympy.symbols(\"\\\\rho s\")\n",
    "gamma0=(1+alpha0*alpha0)/beta0\n",
    "\n",
    "beta=1/gamma0+gamma0*(s-alpha0/gamma0)*(s-alpha0/gamma0)\n",
    "alpha=alpha0-gamma0*s\n",
    "\n",
    "d=s*s/2/rho\n",
    "dp=s/rho\n",
    "\n",
    "H=sympy.simplify(beta*dp*dp+2*alpha*d*dp+gamma0*d*d)\n",
    "Hint=sympy.integrate(H,s)\n",
    "H_ave=(Hint.subs(s,l)-Hint.subs(s,0))/l\n",
    "H_simplified=sympy.simplify(H_ave.subs(beta0,tbeta*l)/l/l/l*rho*rho)\n",
    "H_simplified.subs(alpha0, 10*tbeta/4)\n",
    "H_simplified.subs(alpha0, sympy.sqrt(15)).subs(tbeta,sympy.sqrt(12)/sympy.sqrt(5))"
   ]
  },
  {
   "cell_type": "markdown",
   "metadata": {},
   "source": [
    "Therefore the $\\mathcal{H}$ function at location s gives:\n",
    "\\begin{align}\n",
    "\\mathcal{H}(s)=\\frac{s^{2}}{\\rho^{2}} \\left(\\frac{(1+\\alpha_0^{2}) s^{2}}{4\\beta_0} - \\alpha_0  s + \\beta_0 \\right)\n",
    "\\end{align}\n",
    "Then the average $\\mathcal{H}$ function in dipole is \n",
    "\\begin{align}\n",
    "\\left<\\mathcal{H}(s)\\right>=\\frac{L^3}{\\rho^2} \\left(\\frac{L \\left(\\alpha_0^{2} + 1\\right)}{20 \\beta_0 } - \\frac{\\alpha_0}{4} + \\frac{\\beta_0}{3L}\\right)\n",
    "\\end{align}\n",
    "\n",
    "It is convenient to define ${\\tilde{\\beta}}=\\beta_0/L$, then we have:\n",
    "\\begin{align}\n",
    "\\left<\\mathcal{H}(s)\\right>=\\rho\\theta^3 \\left(\\frac{\\left(\\alpha_0^{2} + 1\\right)}{20 \\tilde{\\beta}} - \\frac{\\alpha_0}{4} + \\frac{\\tilde{\\beta}}{3}\\right)\n",
    "\\end{align}\n",
    "\n",
    "To minimize $\\mathcal{H}$ with two independent variable $\\tilde\\beta$ and $\\alpha_0$, we have \n",
    "\\begin{align}\n",
    "\\frac{\\alpha_0}{10\\tilde\\beta}=\\frac{1}{4}\n",
    "\\end{align}\n",
    "\n",
    "Then $\\tilde\\beta=\\sqrt{12/5}$, and the minimum $\\mathcal{H}$ gives:\n",
    "\\begin{align}\n",
    "\\mathcal{H}_{min}=\\frac{\\sqrt{15}}{60}\\rho\\theta^3\n",
    "\\approx 0.06455\\rho\\theta^3\n",
    "\\end{align}\n",
    "\n",
    "at initial condition: \n",
    "\\begin{align}\n",
    "\\beta_0&=\\sqrt{12/5}L \\\\\n",
    "\\alpha_0&=\\sqrt{15}\\\\\n",
    "\\gamma_0&=\\frac{16}{\\sqrt{12/5}L}\n",
    "\\end{align}\n",
    "\n",
    "Therefore the beta waist should be at:\n",
    "\\begin{align}\n",
    "s^* &= \\frac{\\alpha_0}{\\gamma_0} = \\sqrt{15} \\sqrt{12/5} L /16 = \\frac{3}{8} L\n",
    "\\end{align}\n",
    "with beta function at waist:\n",
    "\\begin{align}\n",
    "\\beta^* &= \\frac{1}{\\gamma_0} = \\sqrt{12/5} L /16 = \\frac{3}{8\\sqrt{15}} L\n",
    "\\end{align}\n",
    "\n",
    "At location of the thin length Quad, we have:\n",
    "\\begin{align}\n",
    "\\beta(s) &= \\beta^* + \\frac{(s-s^*)^2}{\\beta^*}  \\\\\n",
    "&= \\frac{\\sqrt{3/5}}{8} L + \\frac{16}{\\sqrt{12/5}L} \\left(L_1+\\frac{5}{8} L\\right)^2\n",
    "\\end{align}\n"
   ]
  },
  {
   "cell_type": "code",
   "execution_count": 45,
   "metadata": {},
   "outputs": [
    {
     "name": "stdout",
     "output_type": "stream",
     "text": [
      "0.06461442292592653\n"
     ]
    },
    {
     "data": {
      "text/plain": [
       "<matplotlib.legend.Legend at 0x10f38fd30>"
      ]
     },
     "execution_count": 45,
     "metadata": {},
     "output_type": "execute_result"
    },
    {
     "data": {
      "image/png": "[encoded data removed]",
      "text/plain": [
       "<Figure size 432x288 with 2 Axes>"
      ]
     },
     "metadata": {},
     "output_type": "display_data"
    }
   ],
   "source": [
    "fig, ax=plt.subplots()\n",
    "ax_m=ax.twinx()\n",
    "norm_s=np.linspace(0,1,1000)\n",
    "d=norm_s*norm_s/2.0\n",
    "ds=norm_s\n",
    "be_s=3.0/4/np.sqrt(60.0)\n",
    "s_star=3.0/8\n",
    "be=be_s+(norm_s-s_star)*(norm_s-s_star)/be_s\n",
    "al=-(norm_s-s_star)/be_s\n",
    "h=be*ds*ds+2*al*d*ds+d*d/be_s\n",
    "print(np.average(h))\n",
    "l1=ax.plot(norm_s,be, label=r'$\\beta$ function')\n",
    "ax.set_xlabel(r's [in $L$]')\n",
    "ax.set_ylabel(r'$\\beta$ [in $L$]')\n",
    "ax_m.set_ylabel(r'$D$ [in $L\\theta$], $\\mathcal{H}$ [in $L\\theta^2$]')\n",
    "\n",
    "l2=ax_m.plot(norm_s,d, color='g',label=r'Dispersion function')\n",
    "l3=ax_m.plot(norm_s,h, color='r',label=r'$\\mathcal{H}$ function')\n",
    "lns=l1+l2+l3\n",
    "labs = [l.get_label() for l in lns]\n",
    "ax.legend(lns,labs,loc='best')"
   ]
  },
  {
   "cell_type": "code",
   "execution_count": null,
   "metadata": {},
   "outputs": [],
   "source": []
  },
  {
   "cell_type": "code",
   "execution_count": null,
   "metadata": {},
   "outputs": [],
   "source": []
  }
 ],
 "metadata": {
  "kernelspec": {
   "display_name": "Python 3",
   "language": "python",
   "name": "python3"
  },
  "language_info": {
   "codemirror_mode": {
    "name": "ipython",
    "version": 3
   },
   "file_extension": ".py",
   "mimetype": "text/x-python",
   "name": "python",
   "nbconvert_exporter": "python",
   "pygments_lexer": "ipython3",
   "version": "3.9.5"
  },
  "latex_envs": {
   "LaTeX_envs_menu_present": true,
   "autoclose": false,
   "autocomplete": true,
   "bibliofile": "biblio.bib",
   "cite_by": "apalike",
   "current_citInitial": 1,
   "eqLabelWithNumbers": true,
   "eqNumInitial": 1,
   "hotkeys": {
    "equation": "Ctrl-E",
    "itemize": "Ctrl-I"
   },
   "labels_anchors": false,
   "latex_user_defs": false,
   "report_style_numbering": true,
   "user_envs_cfg": false
  },
  "toc": {
   "base_numbering": 1,
   "nav_menu": {},
   "number_sections": true,
   "sideBar": true,
   "skip_h1_title": false,
   "title_cell": "Table of Contents",
   "title_sidebar": "Contents",
   "toc_cell": false,
   "toc_position": {},
   "toc_section_display": "block",
   "toc_window_display": false
  }
 },
 "nbformat": 4,
 "nbformat_minor": 2
}
