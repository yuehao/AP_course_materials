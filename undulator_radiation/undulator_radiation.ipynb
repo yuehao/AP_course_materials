{
 "cells": [
  {
   "cell_type": "markdown",
   "metadata": {},
   "source": [
    "# Undulator Radiation"
   ]
  },
  {
   "cell_type": "markdown",
   "metadata": {},
   "source": [
    "<img src=Undulator_cartoon.png width=400>\n",
    "\n",
    "We simply model the undulator as series of dipoles that has alternating field direction, between $\\hat y$ and $-\\hat y$.  The structure repeats every $\\lambda_u$ for $N_u$ ($\\gg 1$) times.  On axis, we may write the magnetic field of an planar undulator as:\n",
    "\n",
    "\\begin{align}\n",
    "B_y = B_0 \\cos \\frac{2\\pi z}{\\lambda_u}\n",
    "\\end{align}\n",
    "\n",
    "There is another type of undulator, name helical undulator.  The magnetic field is rotating in the x-y plane.  The realization of helical undulator is shown below:\n",
    "\n",
    "<img src=Undulator_helical.png width=400>"
   ]
  },
  {
   "cell_type": "markdown",
   "metadata": {},
   "source": [
    "## Resonance condition"
   ]
  },
  {
   "cell_type": "markdown",
   "metadata": {},
   "source": [
    "Let 's use planar undulator as an example to show the resonance condition between the undulator and the relativistic charged particle.  \n",
    "\n",
    "The equation of motion gives:\n",
    "\\begin{align}\n",
    "m\\gamma \\frac{dv_x}{dt} =- q c B_0 \\cos \\frac{2\\pi z}{\\lambda_u}\n",
    "\\end{align}\n",
    "\n",
    "Using the relativistic approximation $z=ct$\n",
    "\\begin{align}\n",
    "\\frac{dv_x}{dt} =- \\frac {q c B_0}{m\\gamma} \\cos \\frac{2\\pi ct}{\\lambda_u}\n",
    "\\end{align}\n",
    "\n",
    "Therefore:\n",
    "\\begin{align}\n",
    "v_x &= -\\frac {q  cB_0 \\lambda_u}{2\\pi m c\\gamma} \\sin \\frac{2\\pi ct}{\\lambda_u} \\\\\n",
    "&\\equiv-\\frac{cK}{\\gamma}\\sin\\frac{2\\pi ct}{\\lambda_u} = - \\frac{cK}{\\gamma} \\sin\\left(k_u z\\right) \\label{vx_in_undulator}\n",
    "\\end{align}\n",
    "\n",
    "Here we define ***undulator parameter*** $K$:\n",
    "\\begin{align}\n",
    "K =\\frac {q  B_0 \\lambda_u}{2\\pi m c}=0.934 B_0 \\text{[Tesla]} \\lambda_u \\text{[cm]} \n",
    "\\end{align}\n",
    "\n",
    "When $K \\ll 1$, we call this undulator; while it is called wiggler when $K \\ge 1$. \n",
    "\n",
    "And the trajectory of the charged particle in the undulator is:\n",
    "\\begin{align}\n",
    "x&=\\int v_x dt \\\\\n",
    "&=\\frac{K\\lambda_u}{2\\pi c \\gamma}\\cos\\frac{2\\pi t}{\\lambda_u}\\\\\n",
    "&=\\frac{K}{k_u  \\gamma}\\cos \\left(k_u z\\right)\n",
    "\\end{align}"
   ]
  },
  {
   "cell_type": "markdown",
   "metadata": {},
   "source": [
    "Since the magnetic field does not change the energy of the particle, the $z$ component of the velocity is simply:\n",
    "\\begin{align}\n",
    "v_z&=\\sqrt{v^2-v_x^2} \\\\\n",
    "&=c\\sqrt{1-\\frac{1}{\\gamma^2}-\\left(\\frac{K}{\\gamma}\\right)^2 \\sin^2\\left(k_u z\\right)}\\\\\n",
    "&=c\\sqrt{1-\\frac{1+K^2/2}{\\gamma^2}+\\frac{K^2}{2\\gamma^2} \\cos\\left(2k_u z\\right)} \\\\\n",
    "&\\approx c\\left( 1-\\frac{1+K^2/2}{2\\gamma^2}+\\frac{K^2}{4\\gamma^2} \\cos\\left(2k_u z\\right) \\right)\n",
    "\\end{align}"
   ]
  },
  {
   "cell_type": "markdown",
   "metadata": {},
   "source": [
    "Ignoring the oscillating term, we get the average longitudinal velocity:\n",
    "\\begin{align}\n",
    "\\bar{v}_z&=c\\left( 1-\\frac{1+K^2/2}{2\\gamma^2} \\right)\\\\\n",
    "&=c\\left( 1-\\frac{1}{2\\gamma^{*2}} \\right)\n",
    "\\end{align}\n",
    "\n",
    "if we define \n",
    "\\begin{align}\n",
    "\\gamma^*=\\frac{\\gamma}{\\sqrt{1+K^2/2}}\n",
    "\\end{align}"
   ]
  },
  {
   "cell_type": "markdown",
   "metadata": {},
   "source": [
    "Then we can study the frequency by Lorentz transformation to the electron rest frame.  In this frame, the undulator is 'flying' towards the electrons with relativistic factor $\\gamma^*$.  Then the radiation becomes dipole radiation with frequency $\\lambda'=\\lambda_u/\\gamma^*$.  The frequency spread is $\\sim\\frac{1}{N_u}$, due to the effect of truncated sinusoidal motion.  Then the observer in the lab frame will see this radiation with Doppler frequency shift:\n",
    "\\begin{align}\n",
    "\\lambda&=\\lambda'\\gamma^*\\left(1-\\beta^*\\cos\\theta\\right)\\\\\n",
    "&=\\lambda_u\\left(1-\\left(1-\\frac{1}{2\\gamma^{*2}}\\right)\\left(1-\\frac{\\theta^2}{2}\\right)\\right)\\\\\n",
    "&=\\frac{\\lambda_u}{2\\gamma^{*2}}\\left(1+\\gamma^{*2}\\theta^2\\right)\\\\\n",
    "&=\\frac{\\lambda_u}{2\\gamma^{2}}\\left(1+\\frac{K^2}{2}+\\gamma^{2}\\theta^2\\right)\\\\\n",
    "\\end{align}\n",
    "\n",
    "\n",
    "Now we reached the resonance condition of the undulator radiation."
   ]
  },
  {
   "cell_type": "markdown",
   "metadata": {},
   "source": [
    "## Alternative look, Resonance condition"
   ]
  },
  {
   "cell_type": "markdown",
   "metadata": {},
   "source": [
    "We start with equation of the horizontal velocity\n",
    "\\begin{align}\n",
    "v_x  = - \\frac{cK}{\\gamma} \\sin\\left(k_u z\\right) \n",
    "\\end{align}\n",
    "\n",
    "Suppose we have a planar E-M Wave, which has its electric field expressed as:\n",
    "\\begin{align}\n",
    "E_x  &= E_0\\exp i{\\left(\\mathbf{k}_r\\cdot\\mathbf{r}-\\omega_r t\\right)}\n",
    "\\end{align}\n",
    "\n",
    "The energy exchange between the electron and the E-M wave gives:\n",
    "\\begin{align}\n",
    "\\Delta E&= E_x v_x \\\\ \n",
    "&=\\frac{cE_0K}{2\\gamma}\\exp i{\\left(\\left(k_r\\cos\\theta+k_u\\right)z-\\omega_r t\\right)}+\n",
    "\\frac{cE_0K}{2\\gamma}\\exp i{\\left(\\left(k_r\\cos\\theta-k_u\\right)z-\\omega_r t\\right)}\n",
    "\\end{align}\n",
    "\n",
    "Ignore the fast oscillating term and the phase of the energy exchange, aka, ***Ponderomotive phase*** is:\n",
    "\\begin{align}\n",
    "\\phi=\\left(k_r\\cos\\theta+k_u\\right)z-\\omega_r t\n",
    "\\end{align}\n",
    "\n",
    "We specify the ***resonance condition*** as: the time derivative of ponderomotive phase vanishes.  This condition is written as:\n",
    "\\begin{align}\n",
    "\\left(k_r\\cos\\theta+k_u\\right)\\frac{dz}{dt}&=\\omega_r\\\\\n",
    "\\left(k_r\\cos\\theta+k_u\\right)\\left( 1-\\frac{1+K^2/2}{2\\gamma^2} \\right) &= k_r\\\\\n",
    "k_u\\left( 1-\\frac{1+K^2/2}{2\\gamma^2} \\right) &= \\frac{1+K^2/2+\\gamma^2\\theta^2}{2\\gamma^2}k_r\n",
    "\\end{align}\n",
    "\n",
    "Ignore the second order term, we have:\n",
    "\\begin{align}\n",
    "\\lambda_r=\\frac{\\lambda_u}{2\\gamma^2}\\left(1+\\frac{K^2}{2}+\\gamma^2\\theta^2\\right)\n",
    "\\end{align}"
   ]
  },
  {
   "cell_type": "code",
   "execution_count": null,
   "metadata": {},
   "outputs": [],
   "source": []
  }
 ],
 "metadata": {
  "kernelspec": {
   "display_name": "Python 3 (ipykernel)",
   "language": "python",
   "name": "python3"
  },
  "language_info": {
   "codemirror_mode": {
    "name": "ipython",
    "version": 3
   },
   "file_extension": ".py",
   "mimetype": "text/x-python",
   "name": "python",
   "nbconvert_exporter": "python",
   "pygments_lexer": "ipython3",
   "version": "3.7.16"
  },
  "latex_envs": {
   "LaTeX_envs_menu_present": true,
   "autoclose": true,
   "autocomplete": false,
   "bibliofile": "biblio.bib",
   "cite_by": "apalike",
   "current_citInitial": 1,
   "eqLabelWithNumbers": true,
   "eqNumInitial": 1,
   "hotkeys": {
    "equation": "Ctrl-E",
    "itemize": "Ctrl-I"
   },
   "labels_anchors": false,
   "latex_user_defs": false,
   "report_style_numbering": false,
   "user_envs_cfg": false
  },
  "toc": {
   "base_numbering": 1,
   "nav_menu": {},
   "number_sections": true,
   "sideBar": true,
   "skip_h1_title": false,
   "title_cell": "Table of Contents",
   "title_sidebar": "Contents",
   "toc_cell": false,
   "toc_position": {},
   "toc_section_display": "block",
   "toc_window_display": false
  }
 },
 "nbformat": 4,
 "nbformat_minor": 2
}
